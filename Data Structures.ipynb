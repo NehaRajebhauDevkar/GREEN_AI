{
 "cells": [
  {
   "cell_type": "code",
   "execution_count": 1,
   "id": "b03da722-1759-4e8d-8208-5c83006137e4",
   "metadata": {},
   "outputs": [
    {
     "name": "stdout",
     "output_type": "stream",
     "text": [
      "Number of vowels in the string: 3\n"
     ]
    }
   ],
   "source": [
    "#Section 2: Data Structures (List, Tuple, Dictionary, Set)\n",
    "# Function to count vowels in a string\n",
    "def count_vowels(input_string):\n",
    "    # List of vowels\n",
    "    vowels = ['a', 'e', 'i', 'o', 'u']\n",
    "    \n",
    "    # Initialize a counter for vowels\n",
    "    vowel_count = 0\n",
    "    \n",
    "    # Loop through the string and count vowels\n",
    "    for char in input_string.lower():  # Convert the string to lowercase for case-insensitive matching\n",
    "        if char in vowels:\n",
    "            vowel_count += 1\n",
    "    \n",
    "    return vowel_count\n",
    "\n",
    "# Test the function\n",
    "input_string = \"Hello World\"\n",
    "vowel_count = count_vowels(input_string)\n",
    "\n",
    "# Print the result\n",
    "print(\"Number of vowels in the string:\", vowel_count)\n"
   ]
  },
  {
   "cell_type": "code",
   "execution_count": 2,
   "id": "3d6256bd-a022-4fb3-9e3e-7987d803047d",
   "metadata": {},
   "outputs": [
    {
     "name": "stdout",
     "output_type": "stream",
     "text": [
      "Original list: [1, 2, 2, 3, 4, 4, 5]\n",
      "List after removing duplicates: [1, 2, 3, 4, 5]\n"
     ]
    }
   ],
   "source": [
    "def remove_duplicates(input_list):\n",
    "    # Convert the list to a set to remove duplicates\n",
    "    unique_set = set(input_list)\n",
    "    # Convert the set back to a list (if needed)\n",
    "    return list(unique_set)\n",
    "\n",
    "# Example usage\n",
    "my_list = [1, 2, 2, 3, 4, 4, 5]\n",
    "result = remove_duplicates(my_list)\n",
    "print(\"Original list:\", my_list)\n",
    "print(\"List after removing duplicates:\", result)\n"
   ]
  },
  {
   "cell_type": "code",
   "execution_count": 3,
   "id": "fa9d618c-519b-4384-8540-3aff591f3984",
   "metadata": {},
   "outputs": [
    {
     "name": "stdout",
     "output_type": "stream",
     "text": [
      "Students who scored more than 75:\n",
      "Alice\n",
      "Charlie\n",
      "Ethan\n"
     ]
    }
   ],
   "source": [
    "# Create dictionary of students and their marks\n",
    "student_marks = {\n",
    "    \"Alice\": 82,\n",
    "    \"Bob\": 67,\n",
    "    \"Charlie\": 90,\n",
    "    \"Diana\": 73,\n",
    "    \"Ethan\": 88\n",
    "}\n",
    "\n",
    "# Print names of students who scored more than 75\n",
    "print(\"Students who scored more than 75:\")\n",
    "for name, marks in student_marks.items():\n",
    "    if marks > 75:\n",
    "        print(name)\n"
   ]
  },
  {
   "cell_type": "code",
   "execution_count": 4,
   "id": "75d14091-22f6-43f2-912b-48fe13efa33b",
   "metadata": {},
   "outputs": [
    {
     "name": "stdout",
     "output_type": "stream",
     "text": [
      "Original tuple: (10, 20, 30, 40, 50)\n",
      "Reversed tuple: (50, 40, 30, 20, 10)\n"
     ]
    }
   ],
   "source": [
    "# Create a tuple with 5 elements\n",
    "my_tuple = (10, 20, 30, 40, 50)\n",
    "\n",
    "# Print the reversed tuple\n",
    "reversed_tuple = my_tuple[::-1]\n",
    "print(\"Original tuple:\", my_tuple)\n",
    "print(\"Reversed tuple:\", reversed_tuple)\n"
   ]
  },
  {
   "cell_type": "code",
   "execution_count": 5,
   "id": "26391a61-8135-4317-95b7-f7d0d077c70a",
   "metadata": {},
   "outputs": [
    {
     "name": "stdout",
     "output_type": "stream",
     "text": [
      "Number of vowels in 'Hello World': 3\n"
     ]
    }
   ],
   "source": [
    "def count_vowels(input_string):\n",
    "    vowels = ['a', 'e', 'i', 'o', 'u']\n",
    "    count = 0\n",
    "    for char in input_string.lower():\n",
    "        if char in vowels:\n",
    "            count += 1\n",
    "    return count\n",
    "\n",
    "# Example usage\n",
    "user_input = \"Hello World\"\n",
    "vowel_count = count_vowels(user_input)\n",
    "print(f\"Number of vowels in '{user_input}':\", vowel_count)\n"
   ]
  },
  {
   "cell_type": "code",
   "execution_count": null,
   "id": "dedf4a01-1b64-467e-809c-149d5ddbbec7",
   "metadata": {},
   "outputs": [],
   "source": []
  }
 ],
 "metadata": {
  "kernelspec": {
   "display_name": "Python 3 (ipykernel)",
   "language": "python",
   "name": "python3"
  },
  "language_info": {
   "codemirror_mode": {
    "name": "ipython",
    "version": 3
   },
   "file_extension": ".py",
   "mimetype": "text/x-python",
   "name": "python",
   "nbconvert_exporter": "python",
   "pygments_lexer": "ipython3",
   "version": "3.12.7"
  }
 },
 "nbformat": 4,
 "nbformat_minor": 5
}
