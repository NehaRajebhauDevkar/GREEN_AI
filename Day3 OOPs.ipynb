{
 "cells": [
  {
   "cell_type": "code",
   "execution_count": 1,
   "id": "1193d148-bc49-49b9-bbbe-0a80c5f49959",
   "metadata": {},
   "outputs": [],
   "source": [
    "# oops - object oriented programming \n",
    "# It is a method of programming which considers object as a real world entity.\n",
    "# class = blueprint of program \n",
    "# object = instance of class\n",
    "# methods = what my objects can do?\n",
    "# attributes = arguments of objects\n"
   ]
  },
  {
   "cell_type": "code",
   "execution_count": 6,
   "id": "329361c1-41b8-435a-893e-cdd9c58e35ae",
   "metadata": {},
   "outputs": [],
   "source": [
    "class CS:\n",
    "    pass\n",
    "\n"
   ]
  },
  {
   "cell_type": "code",
   "execution_count": 3,
   "id": "7ebfe118-e391-4b35-8529-3f0ee4b594f8",
   "metadata": {},
   "outputs": [
    {
     "data": {
      "text/plain": [
       "__main__.CS"
      ]
     },
     "execution_count": 3,
     "metadata": {},
     "output_type": "execute_result"
    }
   ],
   "source": [
    "CS"
   ]
  },
  {
   "cell_type": "code",
   "execution_count": 7,
   "id": "ac112144-7996-48a7-8775-c39f4221a2ef",
   "metadata": {},
   "outputs": [
    {
     "name": "stdout",
     "output_type": "stream",
     "text": [
      "<__main__.CS object at 0x0000026414381AF0>\n"
     ]
    }
   ],
   "source": [
    "class CS:\n",
    "    pass\n",
    "    \n",
    "student1=CS()\n",
    "print(student1)"
   ]
  },
  {
   "cell_type": "code",
   "execution_count": 34,
   "id": "4d71df17-6357-43df-89b5-ae4be7dfd4be",
   "metadata": {},
   "outputs": [],
   "source": [
    "class CS:\n",
    "   \n",
    "  def __init__(self, name, age):\n",
    "    self.name = name\n",
    "    self.age = age\n",
    "\n",
    "student1 = CS(\"Neha\", 21)\n",
    "student2 = CS(\"sonakshi\", 50)"
   ]
  },
  {
   "cell_type": "code",
   "execution_count": 35,
   "id": "f752032e-1e79-4cb4-90a5-2cab09d59c65",
   "metadata": {},
   "outputs": [
    {
     "name": "stdout",
     "output_type": "stream",
     "text": [
      "Neha\n",
      "21\n",
      "sonakshi\n",
      "50\n"
     ]
    }
   ],
   "source": [
    "print(student1.name)\n",
    "print(student1.age)\n",
    "print(student2.name)\n",
    "print(student2.age)"
   ]
  },
  {
   "cell_type": "code",
   "execution_count": 39,
   "id": "792a28e0-d389-4ef1-99d8-af309a869721",
   "metadata": {},
   "outputs": [
    {
     "name": "stdout",
     "output_type": "stream",
     "text": [
      "My name is Neha & i am coding\n",
      "My age is 21 & i am coding\n",
      "None\n",
      "My name is sonakshi & i am coding\n",
      "My age is 50 & i am coding\n",
      "None\n"
     ]
    }
   ],
   "source": [
    "class CS:\n",
    "   \n",
    "  def __init__(self, name, age):\n",
    "    self.name = name\n",
    "    self.age = age\n",
    "\n",
    "  def coding(self):\n",
    "      print(f\"My name is {self.name} & i am coding\")\n",
    "      print(f\"My age is {self.age} & i am coding\")\n",
    "\n",
    "\n",
    "student1 = CS(\"Neha\", 21)\n",
    "student2 = CS(\"sonakshi\", 50)\n",
    "print(student1.coding())\n",
    "print(student2.coding())"
   ]
  },
  {
   "cell_type": "code",
   "execution_count": 99,
   "id": "de07e3c7-2c56-4a38-b4ae-6669c73fb835",
   "metadata": {},
   "outputs": [],
   "source": [
    "# main pillars of OOps\n",
    "# Inheritance\n",
    "# Encapsulation\n",
    "# Polymorphism\n",
    "# Abstraction\n",
    "\n",
    "class Parent:\n",
    "    def __init__(self, name, surname):\n",
    "        self.name=name\n",
    "        self.age=surname\n",
    "\n",
    "    def show_details(self):\n",
    "       print(f\"My name is {self.name} {self.surname}\")\n",
    "\n",
    "class Child(Parent):\n",
    "    def __init__(self, name, surname, age):\n",
    "     super().__init__(name,surname)\n",
    "     self.age=age\n",
    "\n",
    "     def intro(self):\n",
    "         print(f\"My name is {self.name} {self.surname} and i am {self.age} years old\")\n",
    "    "
   ]
  },
  {
   "cell_type": "code",
   "execution_count": 100,
   "id": "fdc54eb9-d6d5-4328-b7e0-88119ad7d390",
   "metadata": {},
   "outputs": [
    {
     "ename": "TypeError",
     "evalue": "'Child' object is not callable",
     "output_type": "error",
     "traceback": [
      "\u001b[1;31m---------------------------------------------------------------------------\u001b[0m",
      "\u001b[1;31mTypeError\u001b[0m                                 Traceback (most recent call last)",
      "Cell \u001b[1;32mIn[100], line 1\u001b[0m\n\u001b[1;32m----> 1\u001b[0m Child1 \u001b[38;5;241m=\u001b[39m Child1(\u001b[38;5;124m\"\u001b[39m\u001b[38;5;124mNahe\u001b[39m\u001b[38;5;124m\"\u001b[39m,\u001b[38;5;124m\"\u001b[39m\u001b[38;5;124mDevkar\u001b[39m\u001b[38;5;124m\"\u001b[39m,\u001b[38;5;241m21\u001b[39m)\n\u001b[0;32m      2\u001b[0m Cild1\u001b[38;5;241m.\u001b[39mintro()\n",
      "\u001b[1;31mTypeError\u001b[0m: 'Child' object is not callable"
     ]
    }
   ],
   "source": [
    "Child1 = Child1(\"Nahe\",\"Devkar\",21)\n",
    "Cild1.intro()"
   ]
  },
  {
   "cell_type": "code",
   "execution_count": 90,
   "id": "fb6f240a-1306-4707-8b0e-1952f073847b",
   "metadata": {},
   "outputs": [],
   "source": [
    "#Encapsulation= Hiding data and methods from indirect access\n",
    "\n",
    "class ATM:\n",
    "    def __init__(self,name,card_no,pin):\n",
    "        self.name=name\n",
    "        self._card_no=card_no # protected\n",
    "        self.__pin= pin #private\n",
    "\n",
    "    def get_pin(self):\n",
    "          return self.__pin\n",
    "\n",
    "machine1 = ATM(\"Neha\",123455667,1234)\n",
    "   \n",
    "   "
   ]
  },
  {
   "cell_type": "code",
   "execution_count": 93,
   "id": "dd4e7e88-d11f-43aa-aa6c-349fd5934a43",
   "metadata": {},
   "outputs": [
    {
     "name": "stdout",
     "output_type": "stream",
     "text": [
      "Neha\n",
      "123455667\n"
     ]
    },
    {
     "data": {
      "text/plain": [
       "1234"
      ]
     },
     "execution_count": 93,
     "metadata": {},
     "output_type": "execute_result"
    }
   ],
   "source": [
    "print(machine1.name)\n",
    "print(machine1._card_no)\n",
    "machine1.get_pin()"
   ]
  },
  {
   "cell_type": "code",
   "execution_count": 101,
   "id": "7d37a6ee-a1a8-4de5-80f1-1a24a9dd597c",
   "metadata": {},
   "outputs": [],
   "source": [
    "# Polymorphism = many forms but one object\n",
    "\n",
    "class Parent:\n",
    "    def __init__(self, name, surname):\n",
    "        self.name=name\n",
    "        self.age=surname\n",
    "\n",
    "    def show_details(self):\n",
    "       print(f\"My name is {self.name} {self.surname}\")\n",
    "\n",
    "class Child(Parent):\n",
    "    def __init__(self, name, surname, age):\n",
    "     super().__init__(name,surname)\n",
    "     self.age=age\n",
    "\n",
    "     def sho_details(self):\n",
    "         print(f\"My name is {self.name} {self.surname} and i am {self.age} years old\")\n",
    "    \n",
    "\n"
   ]
  },
  {
   "cell_type": "code",
   "execution_count": 104,
   "id": "54c799b1-74d5-425f-ac53-29bf80815bdb",
   "metadata": {},
   "outputs": [],
   "source": [
    "# Abstraction = \n",
    "from abc import ABC, abstractmethod\n",
    "class Mobile(ABC):\n",
    "    def __init__(self,name,price):\n",
    "        self.name=name\n",
    "        self.price=price\n",
    "\n",
    "\n",
    "    @abstractmethod\n",
    "    def calling(self):\n",
    "        pass\n",
    "\n",
    "    @abstractmethod\n",
    "    def messaging(self):\n",
    "        pass\n",
    "\n",
    "class Iphone(Mobile):\n",
    "    def __init__(self,name,price,camera):\n",
    "        super().__init__(name,price)\n",
    "        self.camera=camera\n",
    "\n",
    "    def calling(self):\n",
    "        print(f\"{self.name} is calling\")\n",
    "\n",
    "    def messaging(self):\n",
    "        print(f\"{self.name} is messaging\")\n",
    "    \n",
    "    "
   ]
  },
  {
   "cell_type": "code",
   "execution_count": null,
   "id": "44ce9904-2399-4524-94d7-ef718d59742d",
   "metadata": {},
   "outputs": [],
   "source": []
  }
 ],
 "metadata": {
  "kernelspec": {
   "display_name": "Python 3 (ipykernel)",
   "language": "python",
   "name": "python3"
  },
  "language_info": {
   "codemirror_mode": {
    "name": "ipython",
    "version": 3
   },
   "file_extension": ".py",
   "mimetype": "text/x-python",
   "name": "python",
   "nbconvert_exporter": "python",
   "pygments_lexer": "ipython3",
   "version": "3.12.7"
  }
 },
 "nbformat": 4,
 "nbformat_minor": 5
}
