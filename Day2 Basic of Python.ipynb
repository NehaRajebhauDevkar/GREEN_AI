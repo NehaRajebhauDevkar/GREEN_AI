{
 "cells": [
  {
   "cell_type": "code",
   "execution_count": 5,
   "id": "a9300130-93b8-44c0-b547-f06431601b74",
   "metadata": {},
   "outputs": [
    {
     "name": "stdout",
     "output_type": "stream",
     "text": [
      "6\n",
      "[1, 2, 'three', 4.5, True, False, 100]\n",
      "[1, 2, 'three', 4.5, True, False, 100, [500, 600, 700]]\n",
      "8\n"
     ]
    }
   ],
   "source": [
    "#list methods\n",
    "#append()\n",
    "\n",
    "mylist = [1,2,\"three\",4.5,True,False]\n",
    "print(len(mylist))\n",
    "\n",
    "mylist.append(100)\n",
    "print(mylist)\n",
    "mylist.append([500,600,700])\n",
    "print(mylist)\n",
    "print(len(mylist))"
   ]
  },
  {
   "cell_type": "code",
   "execution_count": 6,
   "id": "c3a83a3b-1f10-489d-be01-705b71004790",
   "metadata": {},
   "outputs": [
    {
     "name": "stdout",
     "output_type": "stream",
     "text": [
      "[1, 2, 'ICEEM', 'three', 4.5, True, False, 100, [500, 600, 700]]\n"
     ]
    }
   ],
   "source": [
    "mylist.insert(2,\"ICEEM\")\n",
    "print(mylist)"
   ]
  },
  {
   "cell_type": "code",
   "execution_count": 7,
   "id": "4640ced2-b704-481a-8f36-49f49ac81be6",
   "metadata": {},
   "outputs": [
    {
     "data": {
      "text/plain": [
       "'three'"
      ]
     },
     "execution_count": 7,
     "metadata": {},
     "output_type": "execute_result"
    }
   ],
   "source": [
    "mylist.pop(3)"
   ]
  },
  {
   "cell_type": "code",
   "execution_count": 8,
   "id": "e4f919cc-010f-4a6c-8c7a-79ec679a37e6",
   "metadata": {},
   "outputs": [
    {
     "data": {
      "text/plain": [
       "[1, 2, 'ICEEM', 4.5, True, False, 100, [500, 600, 700]]"
      ]
     },
     "execution_count": 8,
     "metadata": {},
     "output_type": "execute_result"
    }
   ],
   "source": [
    "mylist"
   ]
  },
  {
   "cell_type": "code",
   "execution_count": 9,
   "id": "4ca7e492-ce98-4d8d-a921-a7c95bfd3417",
   "metadata": {},
   "outputs": [
    {
     "data": {
      "text/plain": [
       "[500, 600, 700]"
      ]
     },
     "execution_count": 9,
     "metadata": {},
     "output_type": "execute_result"
    }
   ],
   "source": [
    "mylist.pop()"
   ]
  },
  {
   "cell_type": "code",
   "execution_count": 10,
   "id": "8cd4469c-f107-4f0b-a8b8-d69604e5c732",
   "metadata": {},
   "outputs": [
    {
     "data": {
      "text/plain": [
       "[1, 2, 'ICEEM', 4.5, True, False, 100]"
      ]
     },
     "execution_count": 10,
     "metadata": {},
     "output_type": "execute_result"
    }
   ],
   "source": [
    "mylist"
   ]
  },
  {
   "cell_type": "code",
   "execution_count": 11,
   "id": "b592ac17-0c5e-42b2-ba37-e28b65a34bc7",
   "metadata": {},
   "outputs": [],
   "source": [
    "mylist.remove(4.5)"
   ]
  },
  {
   "cell_type": "code",
   "execution_count": 12,
   "id": "77977c57-865c-4f7e-b2a0-4b8adcef9b80",
   "metadata": {},
   "outputs": [
    {
     "data": {
      "text/plain": [
       "[1, 2, 'ICEEM', True, False, 100]"
      ]
     },
     "execution_count": 12,
     "metadata": {},
     "output_type": "execute_result"
    }
   ],
   "source": [
    "mylist"
   ]
  },
  {
   "cell_type": "code",
   "execution_count": 13,
   "id": "355f2902-4b0f-4da6-bf56-d3f18267f557",
   "metadata": {},
   "outputs": [
    {
     "data": {
      "text/plain": [
       "[1, 2, 'ICEEM', True, False, 100]"
      ]
     },
     "execution_count": 13,
     "metadata": {},
     "output_type": "execute_result"
    }
   ],
   "source": [
    "list1=mylist.copy()\n",
    "list1"
   ]
  },
  {
   "cell_type": "code",
   "execution_count": 14,
   "id": "499efdf2-4487-42d4-b7e1-ffebbe767dc2",
   "metadata": {},
   "outputs": [
    {
     "data": {
      "text/plain": [
       "[1, 2, 'ICEEM', True, False, 100, 'A', 'B']"
      ]
     },
     "execution_count": 14,
     "metadata": {},
     "output_type": "execute_result"
    }
   ],
   "source": [
    "list2=[\"A\",\"B\"]\n",
    "new_list=list1+list2\n",
    "new_list"
   ]
  },
  {
   "cell_type": "code",
   "execution_count": 15,
   "id": "805ad495-a3ba-4308-b377-e10ce49d179c",
   "metadata": {},
   "outputs": [
    {
     "data": {
      "text/plain": [
       "[1, 2, 'ICEEM', True, False, 100, 'A', 'B', 'neha', 'sona']"
      ]
     },
     "execution_count": 15,
     "metadata": {},
     "output_type": "execute_result"
    }
   ],
   "source": [
    "list3=[\"neha\",\"sona\"]\n",
    "new_list=list1+list2+list3\n",
    "new_list"
   ]
  },
  {
   "cell_type": "code",
   "execution_count": 16,
   "id": "b80283e8-c7b6-4a5e-a3ae-ca38b82cca65",
   "metadata": {},
   "outputs": [
    {
     "data": {
      "text/plain": [
       "[1, 2, 'ICEEM', True, False, 100, 'A', 'B', 'neha', 'sona', 'samu', 'jau']"
      ]
     },
     "execution_count": 16,
     "metadata": {},
     "output_type": "execute_result"
    }
   ],
   "source": [
    "list4=[\"samu\",\"jau\"]\n",
    "new_list.extend(list4)\n",
    "new_list"
   ]
  },
  {
   "cell_type": "code",
   "execution_count": 17,
   "id": "b84722af-acac-4792-b1e8-3a114b21e4a8",
   "metadata": {},
   "outputs": [
    {
     "name": "stdout",
     "output_type": "stream",
     "text": [
      "<class 'str'>\n"
     ]
    }
   ],
   "source": [
    "#string-text data\n",
    "\n",
    "str1=\"ICEEM\"\n",
    "print(type(str1))"
   ]
  },
  {
   "cell_type": "code",
   "execution_count": 18,
   "id": "43369206-ba34-4c48-b7f0-5fa1e5e018b1",
   "metadata": {},
   "outputs": [
    {
     "name": "stdout",
     "output_type": "stream",
     "text": [
      "iceem\n",
      "ICEEM\n",
      "Iceem\n",
      "Iceem\n"
     ]
    }
   ],
   "source": [
    "#string methods\n",
    "\n",
    "print(str1.lower())\n",
    "print(str1.upper())\n",
    "print(str1.title())\n",
    "print(str1.capitalize())"
   ]
  },
  {
   "cell_type": "code",
   "execution_count": 21,
   "id": "970f583c-5fe1-4ead-8db8-28729bc1417e",
   "metadata": {},
   "outputs": [
    {
     "name": "stdout",
     "output_type": "stream",
     "text": [
      "I'M NEHA DEVKAR\n",
      "I'M Neha Devkar\n",
      "I'm neha devkar\n"
     ]
    }
   ],
   "source": [
    "str=\"i'm neha devkar\"\n",
    "print(str.upper())\n",
    "print(str.title())\n",
    "print(str.capitalize())\n"
   ]
  },
  {
   "cell_type": "code",
   "execution_count": 23,
   "id": "c4659757-5022-4e6d-a2b5-05e9e665054d",
   "metadata": {},
   "outputs": [
    {
     "data": {
      "text/plain": [
       "'sonu'"
      ]
     },
     "execution_count": 23,
     "metadata": {},
     "output_type": "execute_result"
    }
   ],
   "source": [
    "#replace method\n",
    "name=\"monu\"\n",
    "name=name.replace(\"m\",\"s\")\n",
    "name"
   ]
  },
  {
   "cell_type": "code",
   "execution_count": 24,
   "id": "1107efcd-3c52-4f01-a183-050d4308aced",
   "metadata": {},
   "outputs": [
    {
     "data": {
      "text/plain": [
       "4"
      ]
     },
     "execution_count": 24,
     "metadata": {},
     "output_type": "execute_result"
    }
   ],
   "source": [
    "#count method\n",
    "mystr2=\"one man one day one dog one tree\"\n",
    "mystr2.count(\"one\")"
   ]
  },
  {
   "cell_type": "code",
   "execution_count": 25,
   "id": "8d63c72f-a71f-4695-bbac-dc5676b4f277",
   "metadata": {},
   "outputs": [
    {
     "data": {
      "text/plain": [
       "True"
      ]
     },
     "execution_count": 25,
     "metadata": {},
     "output_type": "execute_result"
    }
   ],
   "source": [
    "name.startswith(\"s\")"
   ]
  },
  {
   "cell_type": "code",
   "execution_count": 32,
   "id": "80896269-6655-45c9-8e33-9d81a1d90e01",
   "metadata": {},
   "outputs": [
    {
     "name": "stdout",
     "output_type": "stream",
     "text": [
      "True\n",
      "False\n",
      "False\n",
      "True\n",
      "False\n"
     ]
    }
   ],
   "source": [
    "print(name.startswith(\"s\"))\n",
    "print(name.startswith(\"S\"))\n",
    "print(name.endswith(\"o\"))\n",
    "print(name.endswith(\"u\"))\n",
    "print(name.endswith(\"U\"))\n"
   ]
  },
  {
   "cell_type": "code",
   "execution_count": 35,
   "id": "b9ce89f0-6f3d-4a87-ac40-89ce384751a5",
   "metadata": {},
   "outputs": [
    {
     "name": "stdout",
     "output_type": "stream",
     "text": [
      "['ICEEM', 'is', 'a', 'Engg', 'and', 'Polytechnic', 'college']\n",
      "['ICEEM is a Engg ', ' Polytechnic college']\n",
      "['ICEEM is a Engg and Polyt', 'chnic coll', 'g', '']\n"
     ]
    }
   ],
   "source": [
    "#split\n",
    "str3=\"ICEEM is a Engg and Polytechnic college\"\n",
    "print(str3.split())\n",
    "print(str3.split(\"and\"))\n",
    "print(str3.split(\"e\"))"
   ]
  },
  {
   "cell_type": "code",
   "execution_count": 36,
   "id": "6bcc782b-e5e0-4c07-9a73-d852a4d3daeb",
   "metadata": {},
   "outputs": [
    {
     "name": "stdout",
     "output_type": "stream",
     "text": [
      "False\n",
      "True\n"
     ]
    }
   ],
   "source": [
    "mystr4='123456789'\n",
    "print(mystr4.isalpha())\n",
    "print(mystr4.isalnum())"
   ]
  },
  {
   "cell_type": "code",
   "execution_count": 38,
   "id": "982713ef-9b4a-41f7-a392-a1d7f5340a55",
   "metadata": {},
   "outputs": [
    {
     "name": "stdout",
     "output_type": "stream",
     "text": [
      "True\n",
      "False\n"
     ]
    }
   ],
   "source": [
    "mystr5='asdfdbnb'\n",
    "print(mystr5.islower())\n",
    "print(mystr5.isupper())\n"
   ]
  },
  {
   "cell_type": "code",
   "execution_count": 40,
   "id": "19a5efd7-ad1f-413c-b549-ea1bef57034a",
   "metadata": {},
   "outputs": [
    {
     "name": "stdout",
     "output_type": "stream",
     "text": [
      "C\n",
      "M\n"
     ]
    }
   ],
   "source": [
    "#indexing = positions of elements\n",
    "\n",
    "str6=\"ICEEM\"\n",
    "print(str6[1])\n",
    "print(str6[4])"
   ]
  },
  {
   "cell_type": "code",
   "execution_count": 41,
   "id": "ba071cd7-234b-4935-8e5a-1d949f8e3d9f",
   "metadata": {},
   "outputs": [
    {
     "name": "stdout",
     "output_type": "stream",
     "text": [
      "E\n"
     ]
    }
   ],
   "source": [
    "print(str6[-2])\n"
   ]
  },
  {
   "cell_type": "code",
   "execution_count": 42,
   "id": "d2b67ee9-17d1-4f29-94bc-4f1ff60aab09",
   "metadata": {},
   "outputs": [
    {
     "data": {
      "text/plain": [
       "'ICEEM is a Engg and Polytechnic college'"
      ]
     },
     "execution_count": 42,
     "metadata": {},
     "output_type": "execute_result"
    }
   ],
   "source": [
    "str3"
   ]
  },
  {
   "cell_type": "code",
   "execution_count": 43,
   "id": "3cd6a995-115e-4ed8-a595-ceb9602ea9a0",
   "metadata": {},
   "outputs": [
    {
     "data": {
      "text/plain": [
       "'Engg and Polytech'"
      ]
     },
     "execution_count": 43,
     "metadata": {},
     "output_type": "execute_result"
    }
   ],
   "source": [
    "str3[11:28]"
   ]
  },
  {
   "cell_type": "code",
   "execution_count": 45,
   "id": "acb0e33d-2553-4a56-b6f7-a6dbc8d95d2a",
   "metadata": {},
   "outputs": [
    {
     "data": {
      "text/plain": [
       "'Engg and Polytechnic'"
      ]
     },
     "execution_count": 45,
     "metadata": {},
     "output_type": "execute_result"
    }
   ],
   "source": [
    "str3[11:31]"
   ]
  },
  {
   "cell_type": "code",
   "execution_count": 46,
   "id": "674cbf99-7936-4cca-a6a8-92225b78298c",
   "metadata": {},
   "outputs": [
    {
     "data": {
      "text/plain": [
       "'Polytechnic'"
      ]
     },
     "execution_count": 46,
     "metadata": {},
     "output_type": "execute_result"
    }
   ],
   "source": [
    "str3[20:31:1]"
   ]
  },
  {
   "cell_type": "code",
   "execution_count": 47,
   "id": "a898266d-847b-4db3-baa4-f76d808204aa",
   "metadata": {},
   "outputs": [
    {
     "data": {
      "text/plain": [
       "'Pltcnc'"
      ]
     },
     "execution_count": 47,
     "metadata": {},
     "output_type": "execute_result"
    }
   ],
   "source": [
    "str3[20:31:2]"
   ]
  },
  {
   "cell_type": "code",
   "execution_count": 50,
   "id": "6dd3e978-8c7f-422a-84e5-8333e20ee9ee",
   "metadata": {},
   "outputs": [
    {
     "data": {
      "text/plain": [
       "'egelloc cinhcetyloP'"
      ]
     },
     "execution_count": 50,
     "metadata": {},
     "output_type": "execute_result"
    }
   ],
   "source": [
    "str3[-1:-20:-1]"
   ]
  },
  {
   "cell_type": "code",
   "execution_count": 51,
   "id": "6da90340-790b-451e-bdaf-cad74a6a7647",
   "metadata": {},
   "outputs": [
    {
     "data": {
      "text/plain": [
       "'ICEEM is a Engg and Polytechnic college'"
      ]
     },
     "execution_count": 51,
     "metadata": {},
     "output_type": "execute_result"
    }
   ],
   "source": [
    "str3"
   ]
  },
  {
   "cell_type": "code",
   "execution_count": 55,
   "id": "ee8a7f14-2b15-4cce-8f47-20d18d231a36",
   "metadata": {},
   "outputs": [
    {
     "name": "stdout",
     "output_type": "stream",
     "text": [
      "MEECI\n",
      "aheN\n"
     ]
    }
   ],
   "source": [
    "str3=\"ICEEM\"\n",
    "print(str3[::-1])\n",
    "str3=\"Neha\"\n",
    "print(str3[::-1])\n",
    "\n"
   ]
  },
  {
   "cell_type": "code",
   "execution_count": 56,
   "id": "1da1b213-0d9d-4f21-b8e3-8208a57cc9b5",
   "metadata": {},
   "outputs": [
    {
     "data": {
      "text/plain": [
       "False"
      ]
     },
     "execution_count": 56,
     "metadata": {},
     "output_type": "execute_result"
    }
   ],
   "source": [
    "str3=\"ICEEM\"\n",
    "str3==str3[::-1]"
   ]
  },
  {
   "cell_type": "code",
   "execution_count": 60,
   "id": "ac55cbfe-f0c8-492b-9f12-3c7ea20d9af4",
   "metadata": {},
   "outputs": [
    {
     "name": "stdout",
     "output_type": "stream",
     "text": [
      "not polindrome\n"
     ]
    }
   ],
   "source": [
    "#check given string for palindrome\n",
    "if str3==str3[::-1]:\n",
    " print(\"palindrome\")\n",
    "else:\n",
    " print(\"not polindrome\")"
   ]
  },
  {
   "cell_type": "code",
   "execution_count": 66,
   "id": "b94ff9ba-e6a9-4321-82b1-11574f3ee012",
   "metadata": {},
   "outputs": [
    {
     "data": {
      "text/plain": [
       "20"
      ]
     },
     "execution_count": 66,
     "metadata": {},
     "output_type": "execute_result"
    }
   ],
   "source": [
    "#dictionary-it is a collection of data in form of key and value pair\n",
    "my_student={\"name\":\"Neha\",\"age\":21}\n",
    "my_student[\"name\"]\n",
    "students={\"student1\":{\"name\":\"Gau\",\"age\":19},\n",
    "\"student2\":{\"name\":\"shivani\",\"age\":20}\n",
    "}\n",
    "students[\"student2\"][\"age\"]"
   ]
  },
  {
   "cell_type": "code",
   "execution_count": 67,
   "id": "0f4a92aa-ecf0-40b6-822d-378634e2034a",
   "metadata": {},
   "outputs": [
    {
     "data": {
      "text/plain": [
       "dict_keys(['student1', 'student2'])"
      ]
     },
     "execution_count": 67,
     "metadata": {},
     "output_type": "execute_result"
    }
   ],
   "source": [
    "#dictionary methods\n",
    "students.keys()"
   ]
  },
  {
   "cell_type": "code",
   "execution_count": 68,
   "id": "076692c1-475b-4264-a1c7-25dcf6d3f8e0",
   "metadata": {},
   "outputs": [
    {
     "data": {
      "text/plain": [
       "dict_values([{'name': 'Gau', 'age': 19}, {'name': 'shivani', 'age': 20}])"
      ]
     },
     "execution_count": 68,
     "metadata": {},
     "output_type": "execute_result"
    }
   ],
   "source": [
    "students.values()"
   ]
  },
  {
   "cell_type": "code",
   "execution_count": 69,
   "id": "61c7cfcc-6bd1-4695-829a-012daff4ac9e",
   "metadata": {},
   "outputs": [
    {
     "data": {
      "text/plain": [
       "dict_items([('student1', {'name': 'Gau', 'age': 19}), ('student2', {'name': 'shivani', 'age': 20})])"
      ]
     },
     "execution_count": 69,
     "metadata": {},
     "output_type": "execute_result"
    }
   ],
   "source": [
    "students.items()"
   ]
  },
  {
   "cell_type": "code",
   "execution_count": 70,
   "id": "dc688350-1a9b-4bd7-8dc6-3632d84ead30",
   "metadata": {},
   "outputs": [
    {
     "data": {
      "text/plain": [
       "{1, 2, 3, 4, 5}"
      ]
     },
     "execution_count": 70,
     "metadata": {},
     "output_type": "execute_result"
    }
   ],
   "source": [
    "#set-it does not allow duplicates\n",
    "myset={1,2,3,4,5,1,2,3}\n",
    "myset"
   ]
  },
  {
   "cell_type": "code",
   "execution_count": 71,
   "id": "ab7b7fe5-f00c-448a-9423-2d871fea9431",
   "metadata": {},
   "outputs": [
    {
     "data": {
      "text/plain": [
       "{1, 2, 3, 4, 5, 21}"
      ]
     },
     "execution_count": 71,
     "metadata": {},
     "output_type": "execute_result"
    }
   ],
   "source": [
    "#set methods\n",
    "myset.add(21)\n",
    "myset"
   ]
  },
  {
   "cell_type": "code",
   "execution_count": 72,
   "id": "b5d9ad9d-875f-46f1-9cc2-681a758996e0",
   "metadata": {},
   "outputs": [
    {
     "data": {
      "text/plain": [
       "{1, 2, 3, 4, 5, 21, 22}"
      ]
     },
     "execution_count": 72,
     "metadata": {},
     "output_type": "execute_result"
    }
   ],
   "source": [
    "myset.add(22)\n",
    "\n",
    "myset\n"
   ]
  },
  {
   "cell_type": "code",
   "execution_count": 73,
   "id": "63be0b4f-e8d4-4fd6-b6ee-5f4ec72a916f",
   "metadata": {},
   "outputs": [
    {
     "data": {
      "text/plain": [
       "{1, 2, 3, 4, 5, 21, 22, 33, 44, 55}"
      ]
     },
     "execution_count": 73,
     "metadata": {},
     "output_type": "execute_result"
    }
   ],
   "source": [
    "myset.update([44,33,55])\n",
    "myset"
   ]
  },
  {
   "cell_type": "code",
   "execution_count": 77,
   "id": "b6a35799-2688-42ec-a389-763ab5abc45d",
   "metadata": {},
   "outputs": [
    {
     "ename": "KeyError",
     "evalue": "33",
     "output_type": "error",
     "traceback": [
      "\u001b[1;31m---------------------------------------------------------------------------\u001b[0m",
      "\u001b[1;31mKeyError\u001b[0m                                  Traceback (most recent call last)",
      "Cell \u001b[1;32mIn[77], line 1\u001b[0m\n\u001b[1;32m----> 1\u001b[0m myset\u001b[38;5;241m.\u001b[39mremove(\u001b[38;5;241m33\u001b[39m)\n\u001b[0;32m      2\u001b[0m myset\n",
      "\u001b[1;31mKeyError\u001b[0m: 33"
     ]
    }
   ],
   "source": [
    "myset.remove(33)\n",
    "myset"
   ]
  },
  {
   "cell_type": "code",
   "execution_count": 78,
   "id": "a6d42020-b2cb-4e3d-adb6-22f0502b452d",
   "metadata": {},
   "outputs": [
    {
     "data": {
      "text/plain": [
       "{1, 2, 3, 4, 5, 21, 22, 44}"
      ]
     },
     "execution_count": 78,
     "metadata": {},
     "output_type": "execute_result"
    }
   ],
   "source": [
    "myset.discard(55)\n",
    "myset"
   ]
  },
  {
   "cell_type": "code",
   "execution_count": 79,
   "id": "b9a5ea89-a815-4832-a0e4-56547aa6c07d",
   "metadata": {},
   "outputs": [
    {
     "data": {
      "text/plain": [
       "{1, 2, 3, 4, 5, 21, 22, 44}"
      ]
     },
     "execution_count": 79,
     "metadata": {},
     "output_type": "execute_result"
    }
   ],
   "source": [
    "myset.discard(33)\n",
    "myset"
   ]
  },
  {
   "cell_type": "code",
   "execution_count": 80,
   "id": "f95f21b6-5203-4e4e-a3be-74b06cc499a3",
   "metadata": {},
   "outputs": [
    {
     "name": "stdout",
     "output_type": "stream",
     "text": [
      "x is equal to 12\n"
     ]
    }
   ],
   "source": [
    "#conditonal statements\n",
    "# IF, ELTF & ELSE\n",
    "x=12\n",
    "if x == 12:\n",
    "    print(\"x is equal to 12\")"
   ]
  },
  {
   "cell_type": "code",
   "execution_count": 81,
   "id": "70f42833-b57b-4cb2-904d-f38e195ee4f6",
   "metadata": {},
   "outputs": [
    {
     "name": "stdout",
     "output_type": "stream",
     "text": [
      "x is not equal to 12\n"
     ]
    }
   ],
   "source": [
    "x=13\n",
    "if x == 12:\n",
    "    print(\"x is equal to 12\")\n",
    "else:\n",
    "        print(\"x is not equal to 12\")\n"
   ]
  },
  {
   "cell_type": "code",
   "execution_count": 106,
   "id": "1ad300ab-bdb2-4408-84af-48b54f33bd8b",
   "metadata": {},
   "outputs": [
    {
     "name": "stdin",
     "output_type": "stream",
     "text": [
      "Enter marks:  72\n"
     ]
    },
    {
     "name": "stdout",
     "output_type": "stream",
     "text": [
      "Grade B\n"
     ]
    }
   ],
   "source": [
    "num=eval(input(\"Enter marks: \"))\n",
    " \n",
    "if num>=80:\n",
    "      print(\"Grade A\")\n",
    "elif num>=60:\n",
    "      print(\"Grade B\")\n",
    "elif num>=40:\n",
    "      print(\"Grade C\")\n",
    "else:\n",
    "      print(\"Grade D\")"
   ]
  },
  {
   "cell_type": "code",
   "execution_count": 92,
   "id": "615526bb-b30d-47c6-b174-ab99bc869873",
   "metadata": {},
   "outputs": [
    {
     "name": "stdin",
     "output_type": "stream",
     "text": [
      "enter your name: iceem\n",
      "enter your pin: 1234\n"
     ]
    },
    {
     "name": "stdout",
     "output_type": "stream",
     "text": [
      "welcome iceem\n"
     ]
    }
   ],
   "source": [
    "# ATM program using if else\n",
    "\n",
    "user_name_input=input(\"enter your name:\")\n",
    "if user_name_input.lower()==\"iceem\":\n",
    "    user_pin=int(input(\"enter your pin:\"))\n",
    "    if user_pin==1234:\n",
    "        print(\"welcome iceem\")\n",
    "    else:\n",
    "        print(\"invalid user\")"
   ]
  },
  {
   "cell_type": "code",
   "execution_count": 4,
   "id": "b3303221-65b8-4a5b-a0ba-f44163ebdb8a",
   "metadata": {},
   "outputs": [
    {
     "name": "stdout",
     "output_type": "stream",
     "text": [
      "thank you\n",
      "thank you\n",
      "thank you\n"
     ]
    }
   ],
   "source": [
    "#loop\n",
    "#for loop and while loop\n",
    "\n",
    "for i in range(3):\n",
    "    print(\"thank you\")"
   ]
  },
  {
   "cell_type": "code",
   "execution_count": 5,
   "id": "08323d78-ba95-41da-aba7-1b3ebbaef3e7",
   "metadata": {},
   "outputs": [
    {
     "name": "stdout",
     "output_type": "stream",
     "text": [
      "0thank you\n",
      "1thank you\n",
      "2thank you\n"
     ]
    }
   ],
   "source": [
    "for i in range(3):\n",
    "    print(f\"{i}thank you\")"
   ]
  },
  {
   "cell_type": "code",
   "execution_count": 6,
   "id": "c531dadc-1071-4333-9bd0-dece55ca18dc",
   "metadata": {},
   "outputs": [
    {
     "name": "stdout",
     "output_type": "stream",
     "text": [
      "1\n",
      "2\n",
      "3\n",
      "4\n",
      "5\n",
      "6\n",
      "7\n",
      "8\n",
      "9\n",
      "10\n",
      "11\n",
      "12\n",
      "13\n",
      "14\n",
      "15\n",
      "16\n",
      "17\n",
      "18\n",
      "19\n",
      "20\n"
     ]
    }
   ],
   "source": [
    "#no from 1 to 20\n",
    "\n",
    "for i in range(1,21):\n",
    "    print(i)"
   ]
  },
  {
   "cell_type": "code",
   "execution_count": 7,
   "id": "e5ee5684-64f0-488a-9f9b-3531871fbee8",
   "metadata": {},
   "outputs": [
    {
     "name": "stdout",
     "output_type": "stream",
     "text": [
      "2\n",
      "4\n",
      "6\n",
      "8\n",
      "10\n",
      "12\n",
      "14\n",
      "16\n",
      "18\n",
      "20\n"
     ]
    }
   ],
   "source": [
    "#table of 2\n",
    "for i in range(2,21,2):\n",
    "    print(i)\n",
    "    "
   ]
  },
  {
   "cell_type": "code",
   "execution_count": 8,
   "id": "9475b870-23f3-464c-ad94-ab109c4cf64a",
   "metadata": {},
   "outputs": [
    {
     "name": "stdout",
     "output_type": "stream",
     "text": [
      "5\n",
      "10\n",
      "15\n",
      "20\n",
      "25\n",
      "30\n",
      "35\n",
      "40\n",
      "45\n",
      "50\n"
     ]
    }
   ],
   "source": [
    "for i in range(5,51,5):\n",
    "    print(i)\n",
    "    "
   ]
  },
  {
   "cell_type": "code",
   "execution_count": 9,
   "id": "e107cd8e-84bd-4fd0-a472-97c23c8bf13e",
   "metadata": {},
   "outputs": [
    {
     "name": "stdout",
     "output_type": "stream",
     "text": [
      "1\n",
      "2\n",
      "3\n",
      "4\n",
      "5\n"
     ]
    }
   ],
   "source": [
    "list1=[1,2,3,4,5]\n",
    "for i in list1:\n",
    "    print(i)"
   ]
  },
  {
   "cell_type": "code",
   "execution_count": 10,
   "id": "6c3e647b-e362-4380-9522-210e4c785140",
   "metadata": {},
   "outputs": [
    {
     "name": "stdout",
     "output_type": "stream",
     "text": [
      "1\n",
      "4\n",
      "9\n",
      "16\n",
      "25\n"
     ]
    }
   ],
   "source": [
    "list1=[1,2,3,4,5]\n",
    "for i in list1:\n",
    "    print(i*i)"
   ]
  },
  {
   "cell_type": "code",
   "execution_count": 11,
   "id": "f65c77d8-b0fb-4373-8552-6f1ad0bca129",
   "metadata": {},
   "outputs": [
    {
     "name": "stdout",
     "output_type": "stream",
     "text": [
      "1\n",
      "4\n",
      "9\n",
      "16\n",
      "25\n"
     ]
    }
   ],
   "source": [
    "list1=[1,2,3,4,5]\n",
    "for i in list1:\n",
    "    print(i**2)"
   ]
  },
  {
   "cell_type": "code",
   "execution_count": 19,
   "id": "9c5855cd-70ce-4c06-ae88-690de7fa4a8d",
   "metadata": {},
   "outputs": [
    {
     "name": "stdout",
     "output_type": "stream",
     "text": [
      "1\n",
      "odd numbers:\n",
      "2\n",
      "even numbers:\n",
      "3\n",
      "odd numbers:\n",
      "4\n",
      "even numbers:\n",
      "5\n",
      "odd numbers:\n",
      "6\n",
      "even numbers:\n",
      "7\n",
      "odd numbers:\n",
      "8\n",
      "even numbers:\n",
      "9\n",
      "odd numbers:\n",
      "10\n",
      "even numbers:\n",
      "11\n",
      "odd numbers:\n",
      "12\n",
      "even numbers:\n",
      "13\n",
      "odd numbers:\n",
      "14\n",
      "even numbers:\n",
      "15\n",
      "odd numbers:\n",
      "16\n",
      "even numbers:\n",
      "17\n",
      "odd numbers:\n",
      "18\n",
      "even numbers:\n",
      "19\n",
      "odd numbers:\n",
      "20\n",
      "even numbers:\n",
      "21\n",
      "odd numbers:\n",
      "22\n",
      "even numbers:\n",
      "23\n",
      "odd numbers:\n",
      "24\n",
      "even numbers:\n",
      "25\n",
      "odd numbers:\n",
      "26\n",
      "even numbers:\n",
      "27\n",
      "odd numbers:\n",
      "28\n",
      "even numbers:\n",
      "29\n",
      "odd numbers:\n",
      "30\n",
      "even numbers:\n",
      "31\n",
      "odd numbers:\n",
      "32\n",
      "even numbers:\n",
      "33\n",
      "odd numbers:\n",
      "34\n",
      "even numbers:\n",
      "35\n",
      "odd numbers:\n",
      "36\n",
      "even numbers:\n",
      "37\n",
      "odd numbers:\n",
      "38\n",
      "even numbers:\n",
      "39\n",
      "odd numbers:\n",
      "40\n",
      "even numbers:\n",
      "41\n",
      "odd numbers:\n",
      "42\n",
      "even numbers:\n",
      "43\n",
      "odd numbers:\n",
      "44\n",
      "even numbers:\n",
      "45\n",
      "odd numbers:\n",
      "46\n",
      "even numbers:\n",
      "47\n",
      "odd numbers:\n",
      "48\n",
      "even numbers:\n",
      "49\n",
      "odd numbers:\n",
      "50\n",
      "even numbers:\n",
      "51\n",
      "odd numbers:\n",
      "52\n",
      "even numbers:\n",
      "53\n",
      "odd numbers:\n",
      "54\n",
      "even numbers:\n",
      "55\n",
      "odd numbers:\n",
      "56\n",
      "even numbers:\n",
      "57\n",
      "odd numbers:\n",
      "58\n",
      "even numbers:\n",
      "59\n",
      "odd numbers:\n",
      "60\n",
      "even numbers:\n",
      "61\n",
      "odd numbers:\n",
      "62\n",
      "even numbers:\n",
      "63\n",
      "odd numbers:\n",
      "64\n",
      "even numbers:\n",
      "65\n",
      "odd numbers:\n",
      "66\n",
      "even numbers:\n",
      "67\n",
      "odd numbers:\n",
      "68\n",
      "even numbers:\n",
      "69\n",
      "odd numbers:\n",
      "70\n",
      "even numbers:\n",
      "71\n",
      "odd numbers:\n",
      "72\n",
      "even numbers:\n",
      "73\n",
      "odd numbers:\n",
      "74\n",
      "even numbers:\n",
      "75\n",
      "odd numbers:\n",
      "76\n",
      "even numbers:\n",
      "77\n",
      "odd numbers:\n",
      "78\n",
      "even numbers:\n",
      "79\n",
      "odd numbers:\n",
      "80\n",
      "even numbers:\n",
      "81\n",
      "odd numbers:\n",
      "82\n",
      "even numbers:\n",
      "83\n",
      "odd numbers:\n",
      "84\n",
      "even numbers:\n",
      "85\n",
      "odd numbers:\n",
      "86\n",
      "even numbers:\n",
      "87\n",
      "odd numbers:\n",
      "88\n",
      "even numbers:\n",
      "89\n",
      "odd numbers:\n",
      "90\n",
      "even numbers:\n",
      "91\n",
      "odd numbers:\n",
      "92\n",
      "even numbers:\n",
      "93\n",
      "odd numbers:\n",
      "94\n",
      "even numbers:\n",
      "95\n",
      "odd numbers:\n",
      "96\n",
      "even numbers:\n",
      "97\n",
      "odd numbers:\n",
      "98\n",
      "even numbers:\n",
      "99\n",
      "odd numbers:\n"
     ]
    }
   ],
   "source": [
    "for i in range(1,100):\n",
    "    print(i)\n",
    "    if i%2==0:\n",
    "        print(\"even numbers:\")\n",
    "    else:\n",
    "        print(\"odd numbers:\")\n",
    "    "
   ]
  },
  {
   "cell_type": "code",
   "execution_count": 23,
   "id": "3a8cb7c8-d7d4-4bba-979a-71ed8276b651",
   "metadata": {},
   "outputs": [],
   "source": [
    "even_list = []\n",
    "odd_list = []\n",
    "\n",
    "for i in range(1,101):\n",
    "    if i % 2 == 0:\n",
    "        even_list.append(i)\n",
    "    else:\n",
    "        odd_list.append(i)"
   ]
  },
  {
   "cell_type": "code",
   "execution_count": 24,
   "id": "80de1318-1540-4c9c-9440-31e195d3b4b6",
   "metadata": {},
   "outputs": [
    {
     "data": {
      "text/plain": [
       "[2,\n",
       " 4,\n",
       " 6,\n",
       " 8,\n",
       " 10,\n",
       " 12,\n",
       " 14,\n",
       " 16,\n",
       " 18,\n",
       " 20,\n",
       " 22,\n",
       " 24,\n",
       " 26,\n",
       " 28,\n",
       " 30,\n",
       " 32,\n",
       " 34,\n",
       " 36,\n",
       " 38,\n",
       " 40,\n",
       " 42,\n",
       " 44,\n",
       " 46,\n",
       " 48,\n",
       " 50,\n",
       " 52,\n",
       " 54,\n",
       " 56,\n",
       " 58,\n",
       " 60,\n",
       " 62,\n",
       " 64,\n",
       " 66,\n",
       " 68,\n",
       " 70,\n",
       " 72,\n",
       " 74,\n",
       " 76,\n",
       " 78,\n",
       " 80,\n",
       " 82,\n",
       " 84,\n",
       " 86,\n",
       " 88,\n",
       " 90,\n",
       " 92,\n",
       " 94,\n",
       " 96,\n",
       " 98,\n",
       " 100]"
      ]
     },
     "execution_count": 24,
     "metadata": {},
     "output_type": "execute_result"
    }
   ],
   "source": [
    "even_list"
   ]
  },
  {
   "cell_type": "code",
   "execution_count": 25,
   "id": "4840bac2-5318-450f-85cf-4e3febcc2e91",
   "metadata": {},
   "outputs": [
    {
     "data": {
      "text/plain": [
       "[1,\n",
       " 3,\n",
       " 5,\n",
       " 7,\n",
       " 9,\n",
       " 11,\n",
       " 13,\n",
       " 15,\n",
       " 17,\n",
       " 19,\n",
       " 21,\n",
       " 23,\n",
       " 25,\n",
       " 27,\n",
       " 29,\n",
       " 31,\n",
       " 33,\n",
       " 35,\n",
       " 37,\n",
       " 39,\n",
       " 41,\n",
       " 43,\n",
       " 45,\n",
       " 47,\n",
       " 49,\n",
       " 51,\n",
       " 53,\n",
       " 55,\n",
       " 57,\n",
       " 59,\n",
       " 61,\n",
       " 63,\n",
       " 65,\n",
       " 67,\n",
       " 69,\n",
       " 71,\n",
       " 73,\n",
       " 75,\n",
       " 77,\n",
       " 79,\n",
       " 81,\n",
       " 83,\n",
       " 85,\n",
       " 87,\n",
       " 89,\n",
       " 91,\n",
       " 93,\n",
       " 95,\n",
       " 97,\n",
       " 99]"
      ]
     },
     "execution_count": 25,
     "metadata": {},
     "output_type": "execute_result"
    }
   ],
   "source": [
    "odd_list"
   ]
  },
  {
   "cell_type": "code",
   "execution_count": 33,
   "id": "87f7b820-e0a1-411d-b550-0387d40de140",
   "metadata": {},
   "outputs": [
    {
     "name": "stdout",
     "output_type": "stream",
     "text": [
      "1*1=1 \n",
      "1*2=2 \n",
      "1*3=3 \n",
      "1*4=4 \n",
      "1*5=5 \n",
      "1*6=6 \n",
      "1*7=7 \n",
      "1*8=8 \n",
      "1*9=9 \n",
      "1*10=10 \n",
      "2*1=2 \n",
      "2*2=4 \n",
      "2*3=6 \n",
      "2*4=8 \n",
      "2*5=10 \n",
      "2*6=12 \n",
      "2*7=14 \n",
      "2*8=16 \n",
      "2*9=18 \n",
      "2*10=20 \n",
      "3*1=3 \n",
      "3*2=6 \n",
      "3*3=9 \n",
      "3*4=12 \n",
      "3*5=15 \n",
      "3*6=18 \n",
      "3*7=21 \n",
      "3*8=24 \n",
      "3*9=27 \n",
      "3*10=30 \n",
      "4*1=4 \n",
      "4*2=8 \n",
      "4*3=12 \n",
      "4*4=16 \n",
      "4*5=20 \n",
      "4*6=24 \n",
      "4*7=28 \n",
      "4*8=32 \n",
      "4*9=36 \n",
      "4*10=40 \n",
      "5*1=5 \n",
      "5*2=10 \n",
      "5*3=15 \n",
      "5*4=20 \n",
      "5*5=25 \n",
      "5*6=30 \n",
      "5*7=35 \n",
      "5*8=40 \n",
      "5*9=45 \n",
      "5*10=50 \n",
      "6*1=6 \n",
      "6*2=12 \n",
      "6*3=18 \n",
      "6*4=24 \n",
      "6*5=30 \n",
      "6*6=36 \n",
      "6*7=42 \n",
      "6*8=48 \n",
      "6*9=54 \n",
      "6*10=60 \n",
      "7*1=7 \n",
      "7*2=14 \n",
      "7*3=21 \n",
      "7*4=28 \n",
      "7*5=35 \n",
      "7*6=42 \n",
      "7*7=49 \n",
      "7*8=56 \n",
      "7*9=63 \n",
      "7*10=70 \n",
      "8*1=8 \n",
      "8*2=16 \n",
      "8*3=24 \n",
      "8*4=32 \n",
      "8*5=40 \n",
      "8*6=48 \n",
      "8*7=56 \n",
      "8*8=64 \n",
      "8*9=72 \n",
      "8*10=80 \n",
      "9*1=9 \n",
      "9*2=18 \n",
      "9*3=27 \n",
      "9*4=36 \n",
      "9*5=45 \n",
      "9*6=54 \n",
      "9*7=63 \n",
      "9*8=72 \n",
      "9*9=81 \n",
      "9*10=90 \n",
      "10*1=10 \n",
      "10*2=20 \n",
      "10*3=30 \n",
      "10*4=40 \n",
      "10*5=50 \n",
      "10*6=60 \n",
      "10*7=70 \n",
      "10*8=80 \n",
      "10*9=90 \n",
      "10*10=100 \n"
     ]
    }
   ],
   "source": [
    "for i in range(1,11):\n",
    "    for j in range(1,11):\n",
    "        print(f\"{i}*{j}={i*j}\",end=\" \")\n",
    "        print()"
   ]
  },
  {
   "cell_type": "code",
   "execution_count": 38,
   "id": "9affdce8-bd0b-467d-875b-d9c76dee09bb",
   "metadata": {},
   "outputs": [
    {
     "name": "stdout",
     "output_type": "stream",
     "text": [
      "1*1=1 \n",
      "2*2=4 \n",
      "3*3=9 \n",
      "4*4=16 \n",
      "5*5=25 \n",
      "6*6=36 \n",
      "7*7=49 \n",
      "8*8=64 \n",
      "9*9=81 \n",
      "10*10=100 \n"
     ]
    }
   ],
   "source": [
    "for i in range(1,11):\n",
    "    for j in range(1):\n",
    "        print(f\"{i}*{i}={i*i}\", end=\" \")\n",
    "              \n",
    "        print()"
   ]
  },
  {
   "cell_type": "code",
   "execution_count": 47,
   "id": "9d090c9f-0eb5-4f4b-8e00-329370352fb2",
   "metadata": {},
   "outputs": [
    {
     "name": "stdout",
     "output_type": "stream",
     "text": [
      "1 * 1 = 1\t2 * 1 = 2\t3 * 1 = 3\t4 * 1 = 4\t5 * 1 = 5\t6 * 1 = 6\t7 * 1 = 7\t8 * 1 = 8\t9 * 1 = 9\t10 * 1 = 10\t\n",
      "1 * 2 = 2\t2 * 2 = 4\t3 * 2 = 6\t4 * 2 = 8\t5 * 2 = 10\t6 * 2 = 12\t7 * 2 = 14\t8 * 2 = 16\t9 * 2 = 18\t10 * 2 = 20\t\n",
      "1 * 3 = 3\t2 * 3 = 6\t3 * 3 = 9\t4 * 3 = 12\t5 * 3 = 15\t6 * 3 = 18\t7 * 3 = 21\t8 * 3 = 24\t9 * 3 = 27\t10 * 3 = 30\t\n",
      "1 * 4 = 4\t2 * 4 = 8\t3 * 4 = 12\t4 * 4 = 16\t5 * 4 = 20\t6 * 4 = 24\t7 * 4 = 28\t8 * 4 = 32\t9 * 4 = 36\t10 * 4 = 40\t\n",
      "1 * 5 = 5\t2 * 5 = 10\t3 * 5 = 15\t4 * 5 = 20\t5 * 5 = 25\t6 * 5 = 30\t7 * 5 = 35\t8 * 5 = 40\t9 * 5 = 45\t10 * 5 = 50\t\n",
      "1 * 6 = 6\t2 * 6 = 12\t3 * 6 = 18\t4 * 6 = 24\t5 * 6 = 30\t6 * 6 = 36\t7 * 6 = 42\t8 * 6 = 48\t9 * 6 = 54\t10 * 6 = 60\t\n",
      "1 * 7 = 7\t2 * 7 = 14\t3 * 7 = 21\t4 * 7 = 28\t5 * 7 = 35\t6 * 7 = 42\t7 * 7 = 49\t8 * 7 = 56\t9 * 7 = 63\t10 * 7 = 70\t\n",
      "1 * 8 = 8\t2 * 8 = 16\t3 * 8 = 24\t4 * 8 = 32\t5 * 8 = 40\t6 * 8 = 48\t7 * 8 = 56\t8 * 8 = 64\t9 * 8 = 72\t10 * 8 = 80\t\n",
      "1 * 9 = 9\t2 * 9 = 18\t3 * 9 = 27\t4 * 9 = 36\t5 * 9 = 45\t6 * 9 = 54\t7 * 9 = 63\t8 * 9 = 72\t9 * 9 = 81\t10 * 9 = 90\t\n",
      "1 * 10 = 10\t2 * 10 = 20\t3 * 10 = 30\t4 * 10 = 40\t5 * 10 = 50\t6 * 10 = 60\t7 * 10 = 70\t8 * 10 = 80\t9 * 10 = 90\t10 * 10 = 100\t\n"
     ]
    }
   ],
   "source": [
    "for i in range(1,11):\n",
    "  for j in range(1,11):\n",
    "     print(f\"{j} * {i:1} = {i*j:1}\", end=\"\\t\")\n",
    "  print()"
   ]
  },
  {
   "cell_type": "code",
   "execution_count": 50,
   "id": "21ba1fec-5882-4594-bea6-3bcc1545a8a2",
   "metadata": {},
   "outputs": [
    {
     "name": "stdout",
     "output_type": "stream",
     "text": [
      "1*1=1 \n",
      "2*2=4 \n",
      "3*3=9 \n",
      "4*4=16 \n",
      "5*5=25 \n",
      "6*6=36 \n",
      "7*7=49 \n",
      "8*8=64 \n",
      "9*9=81 \n",
      "10*10=100 \n",
      "11*11=121 \n",
      "12*12=144 \n",
      "13*13=169 \n",
      "14*14=196 \n",
      "15*15=225 \n",
      "16*16=256 \n",
      "17*17=289 \n",
      "18*18=324 \n",
      "19*19=361 \n",
      "20*20=400 \n",
      "21*21=441 \n",
      "22*22=484 \n",
      "23*23=529 \n",
      "24*24=576 \n",
      "25*25=625 \n",
      "26*26=676 \n",
      "27*27=729 \n",
      "28*28=784 \n",
      "29*29=841 \n",
      "30*30=900 \n",
      "31*31=961 \n",
      "32*32=1024 \n",
      "33*33=1089 \n",
      "34*34=1156 \n",
      "35*35=1225 \n",
      "36*36=1296 \n",
      "37*37=1369 \n",
      "38*38=1444 \n",
      "39*39=1521 \n",
      "40*40=1600 \n",
      "41*41=1681 \n",
      "42*42=1764 \n",
      "43*43=1849 \n",
      "44*44=1936 \n",
      "45*45=2025 \n",
      "46*46=2116 \n",
      "47*47=2209 \n",
      "48*48=2304 \n",
      "49*49=2401 \n",
      "50*50=2500 \n",
      "51*51=2601 \n",
      "52*52=2704 \n",
      "53*53=2809 \n",
      "54*54=2916 \n",
      "55*55=3025 \n",
      "56*56=3136 \n",
      "57*57=3249 \n",
      "58*58=3364 \n",
      "59*59=3481 \n",
      "60*60=3600 \n",
      "61*61=3721 \n",
      "62*62=3844 \n",
      "63*63=3969 \n",
      "64*64=4096 \n",
      "65*65=4225 \n",
      "66*66=4356 \n",
      "67*67=4489 \n",
      "68*68=4624 \n",
      "69*69=4761 \n",
      "70*70=4900 \n",
      "71*71=5041 \n",
      "72*72=5184 \n",
      "73*73=5329 \n",
      "74*74=5476 \n",
      "75*75=5625 \n",
      "76*76=5776 \n",
      "77*77=5929 \n",
      "78*78=6084 \n",
      "79*79=6241 \n",
      "80*80=6400 \n",
      "81*81=6561 \n",
      "82*82=6724 \n",
      "83*83=6889 \n",
      "84*84=7056 \n",
      "85*85=7225 \n",
      "86*86=7396 \n",
      "87*87=7569 \n",
      "88*88=7744 \n",
      "89*89=7921 \n",
      "90*90=8100 \n",
      "91*91=8281 \n",
      "92*92=8464 \n",
      "93*93=8649 \n",
      "94*94=8836 \n",
      "95*95=9025 \n",
      "96*96=9216 \n",
      "97*97=9409 \n",
      "98*98=9604 \n",
      "99*99=9801 \n",
      "100*100=10000 \n",
      "1*1=1 \n",
      "2*2=4 \n",
      "3*3=9 \n",
      "4*4=16 \n",
      "5*5=25 \n",
      "6*6=36 \n",
      "7*7=49 \n",
      "8*8=64 \n",
      "9*9=81 \n",
      "10*10=100 \n",
      "11*11=121 \n",
      "12*12=144 \n",
      "13*13=169 \n",
      "14*14=196 \n",
      "15*15=225 \n",
      "16*16=256 \n",
      "17*17=289 \n",
      "18*18=324 \n",
      "19*19=361 \n",
      "20*20=400 \n",
      "21*21=441 \n",
      "22*22=484 \n",
      "23*23=529 \n",
      "24*24=576 \n",
      "25*25=625 \n",
      "26*26=676 \n",
      "27*27=729 \n",
      "28*28=784 \n",
      "29*29=841 \n",
      "30*30=900 \n",
      "31*31=961 \n",
      "32*32=1024 \n",
      "33*33=1089 \n",
      "34*34=1156 \n",
      "35*35=1225 \n",
      "36*36=1296 \n",
      "37*37=1369 \n",
      "38*38=1444 \n",
      "39*39=1521 \n",
      "40*40=1600 \n",
      "41*41=1681 \n",
      "42*42=1764 \n",
      "43*43=1849 \n",
      "44*44=1936 \n",
      "45*45=2025 \n",
      "46*46=2116 \n",
      "47*47=2209 \n",
      "48*48=2304 \n",
      "49*49=2401 \n",
      "50*50=2500 \n",
      "51*51=2601 \n",
      "52*52=2704 \n",
      "53*53=2809 \n",
      "54*54=2916 \n",
      "55*55=3025 \n",
      "56*56=3136 \n",
      "57*57=3249 \n",
      "58*58=3364 \n",
      "59*59=3481 \n",
      "60*60=3600 \n",
      "61*61=3721 \n",
      "62*62=3844 \n",
      "63*63=3969 \n",
      "64*64=4096 \n",
      "65*65=4225 \n",
      "66*66=4356 \n",
      "67*67=4489 \n",
      "68*68=4624 \n",
      "69*69=4761 \n",
      "70*70=4900 \n",
      "71*71=5041 \n",
      "72*72=5184 \n",
      "73*73=5329 \n",
      "74*74=5476 \n",
      "75*75=5625 \n",
      "76*76=5776 \n",
      "77*77=5929 \n",
      "78*78=6084 \n",
      "79*79=6241 \n",
      "80*80=6400 \n",
      "81*81=6561 \n",
      "82*82=6724 \n",
      "83*83=6889 \n",
      "84*84=7056 \n",
      "85*85=7225 \n",
      "86*86=7396 \n",
      "87*87=7569 \n",
      "88*88=7744 \n",
      "89*89=7921 \n",
      "90*90=8100 \n",
      "91*91=8281 \n",
      "92*92=8464 \n",
      "93*93=8649 \n",
      "94*94=8836 \n",
      "95*95=9025 \n",
      "96*96=9216 \n",
      "97*97=9409 \n",
      "98*98=9604 \n",
      "99*99=9801 \n",
      "100*100=10000 \n",
      "1*1=1 \n",
      "2*2=4 \n",
      "3*3=9 \n",
      "4*4=16 \n",
      "5*5=25 \n",
      "6*6=36 \n",
      "7*7=49 \n",
      "8*8=64 \n",
      "9*9=81 \n",
      "10*10=100 \n",
      "11*11=121 \n",
      "12*12=144 \n",
      "13*13=169 \n",
      "14*14=196 \n",
      "15*15=225 \n",
      "16*16=256 \n",
      "17*17=289 \n",
      "18*18=324 \n",
      "19*19=361 \n",
      "20*20=400 \n",
      "21*21=441 \n",
      "22*22=484 \n",
      "23*23=529 \n",
      "24*24=576 \n",
      "25*25=625 \n",
      "26*26=676 \n",
      "27*27=729 \n",
      "28*28=784 \n",
      "29*29=841 \n",
      "30*30=900 \n",
      "31*31=961 \n",
      "32*32=1024 \n",
      "33*33=1089 \n",
      "34*34=1156 \n",
      "35*35=1225 \n",
      "36*36=1296 \n",
      "37*37=1369 \n",
      "38*38=1444 \n",
      "39*39=1521 \n",
      "40*40=1600 \n",
      "41*41=1681 \n",
      "42*42=1764 \n",
      "43*43=1849 \n",
      "44*44=1936 \n",
      "45*45=2025 \n",
      "46*46=2116 \n",
      "47*47=2209 \n",
      "48*48=2304 \n",
      "49*49=2401 \n",
      "50*50=2500 \n",
      "51*51=2601 \n",
      "52*52=2704 \n",
      "53*53=2809 \n",
      "54*54=2916 \n",
      "55*55=3025 \n",
      "56*56=3136 \n",
      "57*57=3249 \n",
      "58*58=3364 \n",
      "59*59=3481 \n",
      "60*60=3600 \n",
      "61*61=3721 \n",
      "62*62=3844 \n",
      "63*63=3969 \n",
      "64*64=4096 \n",
      "65*65=4225 \n",
      "66*66=4356 \n",
      "67*67=4489 \n",
      "68*68=4624 \n",
      "69*69=4761 \n",
      "70*70=4900 \n",
      "71*71=5041 \n",
      "72*72=5184 \n",
      "73*73=5329 \n",
      "74*74=5476 \n",
      "75*75=5625 \n",
      "76*76=5776 \n",
      "77*77=5929 \n",
      "78*78=6084 \n",
      "79*79=6241 \n",
      "80*80=6400 \n",
      "81*81=6561 \n",
      "82*82=6724 \n",
      "83*83=6889 \n",
      "84*84=7056 \n",
      "85*85=7225 \n",
      "86*86=7396 \n",
      "87*87=7569 \n",
      "88*88=7744 \n",
      "89*89=7921 \n",
      "90*90=8100 \n",
      "91*91=8281 \n",
      "92*92=8464 \n",
      "93*93=8649 \n",
      "94*94=8836 \n",
      "95*95=9025 \n",
      "96*96=9216 \n",
      "97*97=9409 \n",
      "98*98=9604 \n",
      "99*99=9801 \n",
      "100*100=10000 \n",
      "1*1=1 \n",
      "2*2=4 \n",
      "3*3=9 \n",
      "4*4=16 \n",
      "5*5=25 \n",
      "6*6=36 \n",
      "7*7=49 \n",
      "8*8=64 \n",
      "9*9=81 \n",
      "10*10=100 \n",
      "11*11=121 \n",
      "12*12=144 \n",
      "13*13=169 \n",
      "14*14=196 \n",
      "15*15=225 \n",
      "16*16=256 \n",
      "17*17=289 \n",
      "18*18=324 \n",
      "19*19=361 \n",
      "20*20=400 \n",
      "21*21=441 \n",
      "22*22=484 \n",
      "23*23=529 \n",
      "24*24=576 \n",
      "25*25=625 \n",
      "26*26=676 \n",
      "27*27=729 \n",
      "28*28=784 \n",
      "29*29=841 \n",
      "30*30=900 \n",
      "31*31=961 \n",
      "32*32=1024 \n",
      "33*33=1089 \n",
      "34*34=1156 \n",
      "35*35=1225 \n",
      "36*36=1296 \n",
      "37*37=1369 \n",
      "38*38=1444 \n",
      "39*39=1521 \n",
      "40*40=1600 \n",
      "41*41=1681 \n",
      "42*42=1764 \n",
      "43*43=1849 \n",
      "44*44=1936 \n",
      "45*45=2025 \n",
      "46*46=2116 \n",
      "47*47=2209 \n",
      "48*48=2304 \n",
      "49*49=2401 \n",
      "50*50=2500 \n",
      "51*51=2601 \n",
      "52*52=2704 \n",
      "53*53=2809 \n",
      "54*54=2916 \n",
      "55*55=3025 \n",
      "56*56=3136 \n",
      "57*57=3249 \n",
      "58*58=3364 \n",
      "59*59=3481 \n",
      "60*60=3600 \n",
      "61*61=3721 \n",
      "62*62=3844 \n",
      "63*63=3969 \n",
      "64*64=4096 \n",
      "65*65=4225 \n",
      "66*66=4356 \n",
      "67*67=4489 \n",
      "68*68=4624 \n",
      "69*69=4761 \n",
      "70*70=4900 \n",
      "71*71=5041 \n",
      "72*72=5184 \n",
      "73*73=5329 \n",
      "74*74=5476 \n",
      "75*75=5625 \n",
      "76*76=5776 \n",
      "77*77=5929 \n",
      "78*78=6084 \n",
      "79*79=6241 \n",
      "80*80=6400 \n",
      "81*81=6561 \n",
      "82*82=6724 \n",
      "83*83=6889 \n",
      "84*84=7056 \n",
      "85*85=7225 \n",
      "86*86=7396 \n",
      "87*87=7569 \n",
      "88*88=7744 \n",
      "89*89=7921 \n",
      "90*90=8100 \n",
      "91*91=8281 \n",
      "92*92=8464 \n",
      "93*93=8649 \n",
      "94*94=8836 \n",
      "95*95=9025 \n",
      "96*96=9216 \n",
      "97*97=9409 \n",
      "98*98=9604 \n",
      "99*99=9801 \n",
      "100*100=10000 \n",
      "1*1=1 \n",
      "2*2=4 \n",
      "3*3=9 \n",
      "4*4=16 \n",
      "5*5=25 \n",
      "6*6=36 \n",
      "7*7=49 \n",
      "8*8=64 \n",
      "9*9=81 \n",
      "10*10=100 \n",
      "11*11=121 \n",
      "12*12=144 \n",
      "13*13=169 \n",
      "14*14=196 \n",
      "15*15=225 \n",
      "16*16=256 \n",
      "17*17=289 \n",
      "18*18=324 \n",
      "19*19=361 \n",
      "20*20=400 \n",
      "21*21=441 \n",
      "22*22=484 \n",
      "23*23=529 \n",
      "24*24=576 \n",
      "25*25=625 \n",
      "26*26=676 \n",
      "27*27=729 \n",
      "28*28=784 \n",
      "29*29=841 \n",
      "30*30=900 \n",
      "31*31=961 \n",
      "32*32=1024 \n",
      "33*33=1089 \n",
      "34*34=1156 \n",
      "35*35=1225 \n",
      "36*36=1296 \n",
      "37*37=1369 \n",
      "38*38=1444 \n",
      "39*39=1521 \n",
      "40*40=1600 \n",
      "41*41=1681 \n",
      "42*42=1764 \n",
      "43*43=1849 \n",
      "44*44=1936 \n",
      "45*45=2025 \n",
      "46*46=2116 \n",
      "47*47=2209 \n",
      "48*48=2304 \n",
      "49*49=2401 \n",
      "50*50=2500 \n",
      "51*51=2601 \n",
      "52*52=2704 \n",
      "53*53=2809 \n",
      "54*54=2916 \n",
      "55*55=3025 \n",
      "56*56=3136 \n",
      "57*57=3249 \n",
      "58*58=3364 \n",
      "59*59=3481 \n",
      "60*60=3600 \n",
      "61*61=3721 \n",
      "62*62=3844 \n",
      "63*63=3969 \n",
      "64*64=4096 \n",
      "65*65=4225 \n",
      "66*66=4356 \n",
      "67*67=4489 \n",
      "68*68=4624 \n",
      "69*69=4761 \n",
      "70*70=4900 \n",
      "71*71=5041 \n",
      "72*72=5184 \n",
      "73*73=5329 \n",
      "74*74=5476 \n",
      "75*75=5625 \n",
      "76*76=5776 \n",
      "77*77=5929 \n",
      "78*78=6084 \n",
      "79*79=6241 \n",
      "80*80=6400 \n",
      "81*81=6561 \n",
      "82*82=6724 \n",
      "83*83=6889 \n",
      "84*84=7056 \n",
      "85*85=7225 \n",
      "86*86=7396 \n",
      "87*87=7569 \n",
      "88*88=7744 \n",
      "89*89=7921 \n",
      "90*90=8100 \n",
      "91*91=8281 \n",
      "92*92=8464 \n",
      "93*93=8649 \n",
      "94*94=8836 \n",
      "95*95=9025 \n",
      "96*96=9216 \n",
      "97*97=9409 \n",
      "98*98=9604 \n",
      "99*99=9801 \n",
      "100*100=10000 \n",
      "1*1=1 \n",
      "2*2=4 \n",
      "3*3=9 \n",
      "4*4=16 \n",
      "5*5=25 \n",
      "6*6=36 \n",
      "7*7=49 \n",
      "8*8=64 \n",
      "9*9=81 \n",
      "10*10=100 \n",
      "11*11=121 \n",
      "12*12=144 \n",
      "13*13=169 \n",
      "14*14=196 \n",
      "15*15=225 \n",
      "16*16=256 \n",
      "17*17=289 \n",
      "18*18=324 \n",
      "19*19=361 \n",
      "20*20=400 \n",
      "21*21=441 \n",
      "22*22=484 \n",
      "23*23=529 \n",
      "24*24=576 \n",
      "25*25=625 \n",
      "26*26=676 \n",
      "27*27=729 \n",
      "28*28=784 \n",
      "29*29=841 \n",
      "30*30=900 \n",
      "31*31=961 \n",
      "32*32=1024 \n",
      "33*33=1089 \n",
      "34*34=1156 \n",
      "35*35=1225 \n",
      "36*36=1296 \n",
      "37*37=1369 \n",
      "38*38=1444 \n",
      "39*39=1521 \n",
      "40*40=1600 \n",
      "41*41=1681 \n",
      "42*42=1764 \n",
      "43*43=1849 \n",
      "44*44=1936 \n",
      "45*45=2025 \n",
      "46*46=2116 \n",
      "47*47=2209 \n",
      "48*48=2304 \n",
      "49*49=2401 \n",
      "50*50=2500 \n",
      "51*51=2601 \n",
      "52*52=2704 \n",
      "53*53=2809 \n",
      "54*54=2916 \n",
      "55*55=3025 \n",
      "56*56=3136 \n",
      "57*57=3249 \n",
      "58*58=3364 \n",
      "59*59=3481 \n",
      "60*60=3600 \n",
      "61*61=3721 \n",
      "62*62=3844 \n",
      "63*63=3969 \n",
      "64*64=4096 \n",
      "65*65=4225 \n",
      "66*66=4356 \n",
      "67*67=4489 \n",
      "68*68=4624 \n",
      "69*69=4761 \n",
      "70*70=4900 \n",
      "71*71=5041 \n",
      "72*72=5184 \n",
      "73*73=5329 \n",
      "74*74=5476 \n",
      "75*75=5625 \n",
      "76*76=5776 \n",
      "77*77=5929 \n",
      "78*78=6084 \n",
      "79*79=6241 \n",
      "80*80=6400 \n",
      "81*81=6561 \n",
      "82*82=6724 \n",
      "83*83=6889 \n",
      "84*84=7056 \n",
      "85*85=7225 \n",
      "86*86=7396 \n",
      "87*87=7569 \n",
      "88*88=7744 \n",
      "89*89=7921 \n",
      "90*90=8100 \n",
      "91*91=8281 \n",
      "92*92=8464 \n",
      "93*93=8649 \n",
      "94*94=8836 \n",
      "95*95=9025 \n",
      "96*96=9216 \n",
      "97*97=9409 \n",
      "98*98=9604 \n",
      "99*99=9801 \n",
      "100*100=10000 \n",
      "1*1=1 \n",
      "2*2=4 \n",
      "3*3=9 \n",
      "4*4=16 \n",
      "5*5=25 \n",
      "6*6=36 \n",
      "7*7=49 \n",
      "8*8=64 \n",
      "9*9=81 \n",
      "10*10=100 \n",
      "11*11=121 \n",
      "12*12=144 \n",
      "13*13=169 \n",
      "14*14=196 \n",
      "15*15=225 \n",
      "16*16=256 \n",
      "17*17=289 \n",
      "18*18=324 \n",
      "19*19=361 \n",
      "20*20=400 \n",
      "21*21=441 \n",
      "22*22=484 \n",
      "23*23=529 \n",
      "24*24=576 \n",
      "25*25=625 \n",
      "26*26=676 \n",
      "27*27=729 \n",
      "28*28=784 \n",
      "29*29=841 \n",
      "30*30=900 \n",
      "31*31=961 \n",
      "32*32=1024 \n",
      "33*33=1089 \n",
      "34*34=1156 \n",
      "35*35=1225 \n",
      "36*36=1296 \n",
      "37*37=1369 \n",
      "38*38=1444 \n",
      "39*39=1521 \n",
      "40*40=1600 \n",
      "41*41=1681 \n",
      "42*42=1764 \n",
      "43*43=1849 \n",
      "44*44=1936 \n",
      "45*45=2025 \n",
      "46*46=2116 \n",
      "47*47=2209 \n",
      "48*48=2304 \n",
      "49*49=2401 \n",
      "50*50=2500 \n",
      "51*51=2601 \n",
      "52*52=2704 \n",
      "53*53=2809 \n",
      "54*54=2916 \n",
      "55*55=3025 \n",
      "56*56=3136 \n",
      "57*57=3249 \n",
      "58*58=3364 \n",
      "59*59=3481 \n",
      "60*60=3600 \n",
      "61*61=3721 \n",
      "62*62=3844 \n",
      "63*63=3969 \n",
      "64*64=4096 \n",
      "65*65=4225 \n",
      "66*66=4356 \n",
      "67*67=4489 \n",
      "68*68=4624 \n",
      "69*69=4761 \n",
      "70*70=4900 \n",
      "71*71=5041 \n",
      "72*72=5184 \n",
      "73*73=5329 \n",
      "74*74=5476 \n",
      "75*75=5625 \n",
      "76*76=5776 \n",
      "77*77=5929 \n",
      "78*78=6084 \n",
      "79*79=6241 \n",
      "80*80=6400 \n",
      "81*81=6561 \n",
      "82*82=6724 \n",
      "83*83=6889 \n",
      "84*84=7056 \n",
      "85*85=7225 \n",
      "86*86=7396 \n",
      "87*87=7569 \n",
      "88*88=7744 \n",
      "89*89=7921 \n",
      "90*90=8100 \n",
      "91*91=8281 \n",
      "92*92=8464 \n",
      "93*93=8649 \n",
      "94*94=8836 \n",
      "95*95=9025 \n",
      "96*96=9216 \n",
      "97*97=9409 \n",
      "98*98=9604 \n",
      "99*99=9801 \n",
      "100*100=10000 \n",
      "1*1=1 \n",
      "2*2=4 \n",
      "3*3=9 \n",
      "4*4=16 \n",
      "5*5=25 \n",
      "6*6=36 \n",
      "7*7=49 \n",
      "8*8=64 \n",
      "9*9=81 \n",
      "10*10=100 \n",
      "11*11=121 \n",
      "12*12=144 \n",
      "13*13=169 \n",
      "14*14=196 \n",
      "15*15=225 \n",
      "16*16=256 \n",
      "17*17=289 \n",
      "18*18=324 \n",
      "19*19=361 \n",
      "20*20=400 \n",
      "21*21=441 \n",
      "22*22=484 \n",
      "23*23=529 \n",
      "24*24=576 \n",
      "25*25=625 \n",
      "26*26=676 \n",
      "27*27=729 \n",
      "28*28=784 \n",
      "29*29=841 \n",
      "30*30=900 \n",
      "31*31=961 \n",
      "32*32=1024 \n",
      "33*33=1089 \n",
      "34*34=1156 \n",
      "35*35=1225 \n",
      "36*36=1296 \n",
      "37*37=1369 \n",
      "38*38=1444 \n",
      "39*39=1521 \n",
      "40*40=1600 \n",
      "41*41=1681 \n",
      "42*42=1764 \n",
      "43*43=1849 \n",
      "44*44=1936 \n",
      "45*45=2025 \n",
      "46*46=2116 \n",
      "47*47=2209 \n",
      "48*48=2304 \n",
      "49*49=2401 \n",
      "50*50=2500 \n",
      "51*51=2601 \n",
      "52*52=2704 \n",
      "53*53=2809 \n",
      "54*54=2916 \n",
      "55*55=3025 \n",
      "56*56=3136 \n",
      "57*57=3249 \n",
      "58*58=3364 \n",
      "59*59=3481 \n",
      "60*60=3600 \n",
      "61*61=3721 \n",
      "62*62=3844 \n",
      "63*63=3969 \n",
      "64*64=4096 \n",
      "65*65=4225 \n",
      "66*66=4356 \n",
      "67*67=4489 \n",
      "68*68=4624 \n",
      "69*69=4761 \n",
      "70*70=4900 \n",
      "71*71=5041 \n",
      "72*72=5184 \n",
      "73*73=5329 \n",
      "74*74=5476 \n",
      "75*75=5625 \n",
      "76*76=5776 \n",
      "77*77=5929 \n",
      "78*78=6084 \n",
      "79*79=6241 \n",
      "80*80=6400 \n",
      "81*81=6561 \n",
      "82*82=6724 \n",
      "83*83=6889 \n",
      "84*84=7056 \n",
      "85*85=7225 \n",
      "86*86=7396 \n",
      "87*87=7569 \n",
      "88*88=7744 \n",
      "89*89=7921 \n",
      "90*90=8100 \n",
      "91*91=8281 \n",
      "92*92=8464 \n",
      "93*93=8649 \n",
      "94*94=8836 \n",
      "95*95=9025 \n",
      "96*96=9216 \n",
      "97*97=9409 \n",
      "98*98=9604 \n",
      "99*99=9801 \n",
      "100*100=10000 \n",
      "1*1=1 \n",
      "2*2=4 \n",
      "3*3=9 \n",
      "4*4=16 \n",
      "5*5=25 \n",
      "6*6=36 \n",
      "7*7=49 \n",
      "8*8=64 \n",
      "9*9=81 \n",
      "10*10=100 \n",
      "11*11=121 \n",
      "12*12=144 \n",
      "13*13=169 \n",
      "14*14=196 \n",
      "15*15=225 \n",
      "16*16=256 \n",
      "17*17=289 \n",
      "18*18=324 \n",
      "19*19=361 \n",
      "20*20=400 \n",
      "21*21=441 \n",
      "22*22=484 \n",
      "23*23=529 \n",
      "24*24=576 \n",
      "25*25=625 \n",
      "26*26=676 \n",
      "27*27=729 \n",
      "28*28=784 \n",
      "29*29=841 \n",
      "30*30=900 \n",
      "31*31=961 \n",
      "32*32=1024 \n",
      "33*33=1089 \n",
      "34*34=1156 \n",
      "35*35=1225 \n",
      "36*36=1296 \n",
      "37*37=1369 \n",
      "38*38=1444 \n",
      "39*39=1521 \n",
      "40*40=1600 \n",
      "41*41=1681 \n",
      "42*42=1764 \n",
      "43*43=1849 \n",
      "44*44=1936 \n",
      "45*45=2025 \n",
      "46*46=2116 \n",
      "47*47=2209 \n",
      "48*48=2304 \n",
      "49*49=2401 \n",
      "50*50=2500 \n",
      "51*51=2601 \n",
      "52*52=2704 \n",
      "53*53=2809 \n",
      "54*54=2916 \n",
      "55*55=3025 \n",
      "56*56=3136 \n",
      "57*57=3249 \n",
      "58*58=3364 \n",
      "59*59=3481 \n",
      "60*60=3600 \n",
      "61*61=3721 \n",
      "62*62=3844 \n",
      "63*63=3969 \n",
      "64*64=4096 \n",
      "65*65=4225 \n",
      "66*66=4356 \n",
      "67*67=4489 \n",
      "68*68=4624 \n",
      "69*69=4761 \n",
      "70*70=4900 \n",
      "71*71=5041 \n",
      "72*72=5184 \n",
      "73*73=5329 \n",
      "74*74=5476 \n",
      "75*75=5625 \n",
      "76*76=5776 \n",
      "77*77=5929 \n",
      "78*78=6084 \n",
      "79*79=6241 \n",
      "80*80=6400 \n",
      "81*81=6561 \n",
      "82*82=6724 \n",
      "83*83=6889 \n",
      "84*84=7056 \n",
      "85*85=7225 \n",
      "86*86=7396 \n",
      "87*87=7569 \n",
      "88*88=7744 \n",
      "89*89=7921 \n",
      "90*90=8100 \n",
      "91*91=8281 \n",
      "92*92=8464 \n",
      "93*93=8649 \n",
      "94*94=8836 \n",
      "95*95=9025 \n",
      "96*96=9216 \n",
      "97*97=9409 \n",
      "98*98=9604 \n",
      "99*99=9801 \n",
      "100*100=10000 \n",
      "1*1=1 \n",
      "2*2=4 \n",
      "3*3=9 \n",
      "4*4=16 \n",
      "5*5=25 \n",
      "6*6=36 \n",
      "7*7=49 \n",
      "8*8=64 \n",
      "9*9=81 \n",
      "10*10=100 \n",
      "11*11=121 \n",
      "12*12=144 \n",
      "13*13=169 \n",
      "14*14=196 \n",
      "15*15=225 \n",
      "16*16=256 \n",
      "17*17=289 \n",
      "18*18=324 \n",
      "19*19=361 \n",
      "20*20=400 \n",
      "21*21=441 \n",
      "22*22=484 \n",
      "23*23=529 \n",
      "24*24=576 \n",
      "25*25=625 \n",
      "26*26=676 \n",
      "27*27=729 \n",
      "28*28=784 \n",
      "29*29=841 \n",
      "30*30=900 \n",
      "31*31=961 \n",
      "32*32=1024 \n",
      "33*33=1089 \n",
      "34*34=1156 \n",
      "35*35=1225 \n",
      "36*36=1296 \n",
      "37*37=1369 \n",
      "38*38=1444 \n",
      "39*39=1521 \n",
      "40*40=1600 \n",
      "41*41=1681 \n",
      "42*42=1764 \n",
      "43*43=1849 \n",
      "44*44=1936 \n",
      "45*45=2025 \n",
      "46*46=2116 \n",
      "47*47=2209 \n",
      "48*48=2304 \n",
      "49*49=2401 \n",
      "50*50=2500 \n",
      "51*51=2601 \n",
      "52*52=2704 \n",
      "53*53=2809 \n",
      "54*54=2916 \n",
      "55*55=3025 \n",
      "56*56=3136 \n",
      "57*57=3249 \n",
      "58*58=3364 \n",
      "59*59=3481 \n",
      "60*60=3600 \n",
      "61*61=3721 \n",
      "62*62=3844 \n",
      "63*63=3969 \n",
      "64*64=4096 \n",
      "65*65=4225 \n",
      "66*66=4356 \n",
      "67*67=4489 \n",
      "68*68=4624 \n",
      "69*69=4761 \n",
      "70*70=4900 \n",
      "71*71=5041 \n",
      "72*72=5184 \n",
      "73*73=5329 \n",
      "74*74=5476 \n",
      "75*75=5625 \n",
      "76*76=5776 \n",
      "77*77=5929 \n",
      "78*78=6084 \n",
      "79*79=6241 \n",
      "80*80=6400 \n",
      "81*81=6561 \n",
      "82*82=6724 \n",
      "83*83=6889 \n",
      "84*84=7056 \n",
      "85*85=7225 \n",
      "86*86=7396 \n",
      "87*87=7569 \n",
      "88*88=7744 \n",
      "89*89=7921 \n",
      "90*90=8100 \n",
      "91*91=8281 \n",
      "92*92=8464 \n",
      "93*93=8649 \n",
      "94*94=8836 \n",
      "95*95=9025 \n",
      "96*96=9216 \n",
      "97*97=9409 \n",
      "98*98=9604 \n",
      "99*99=9801 \n",
      "100*100=10000 \n"
     ]
    }
   ],
   "source": [
    "for i in range(1,11):\n",
    "    for j in range(1,101):\n",
    "        print(f\"{j}*{j}={j*j}\", end=\" \")\n",
    "              \n",
    "        print()"
   ]
  },
  {
   "cell_type": "code",
   "execution_count": 109,
   "id": "d44307cf-8e8b-425f-bb29-3a2350cf96a4",
   "metadata": {},
   "outputs": [
    {
     "name": "stdin",
     "output_type": "stream",
     "text": [
      "enter rows: 7\n"
     ]
    },
    {
     "name": "stdout",
     "output_type": "stream",
     "text": [
      "\n",
      "* \n",
      "* * \n",
      "* * * \n",
      "* * * * \n",
      "* * * * * \n",
      "* * * * * * \n",
      "* * * * * * * \n"
     ]
    }
   ],
   "source": [
    "#star pattern\n",
    " \n",
    "rows=int(input(\"enter rows:\"))\n",
    "for i in range(rows + 1):\n",
    " for j in range(1,i+1):\n",
    "   print(\"*\", end = \" \")\n",
    " print()\n"
   ]
  },
  {
   "cell_type": "code",
   "execution_count": 58,
   "id": "f856320b-c825-4e6c-9764-74424ae8e602",
   "metadata": {},
   "outputs": [
    {
     "name": "stdout",
     "output_type": "stream",
     "text": [
      "1\n",
      "2\n",
      "3\n",
      "4\n",
      "5\n",
      "6\n",
      "7\n",
      "8\n",
      "9\n",
      "10\n"
     ]
    }
   ],
   "source": [
    "#while loop\n",
    "num=1\n",
    "while num <= 10:\n",
    "    print(num)\n",
    "    num +=1"
   ]
  },
  {
   "cell_type": "code",
   "execution_count": 64,
   "id": "fbee27ee-0c16-4763-9456-5e719ee40cbb",
   "metadata": {},
   "outputs": [
    {
     "name": "stdout",
     "output_type": "stream",
     "text": [
      "2\n",
      "4\n",
      "6\n",
      "8\n",
      "10\n",
      "12\n",
      "14\n",
      "16\n",
      "18\n",
      "20\n"
     ]
    }
   ],
   "source": [
    "num=2\n",
    "while num <= 20:\n",
    "    print(num)\n",
    "    num +=2"
   ]
  },
  {
   "cell_type": "code",
   "execution_count": 80,
   "id": "641f3867-2311-4354-b138-ed87c3744837",
   "metadata": {},
   "outputs": [
    {
     "name": "stdin",
     "output_type": "stream",
     "text": [
      "guess the number: 5\n"
     ]
    },
    {
     "name": "stdout",
     "output_type": "stream",
     "text": [
      "too low\n"
     ]
    },
    {
     "name": "stdin",
     "output_type": "stream",
     "text": [
      "guess the number: 4\n"
     ]
    },
    {
     "name": "stdout",
     "output_type": "stream",
     "text": [
      "too low\n"
     ]
    },
    {
     "name": "stdin",
     "output_type": "stream",
     "text": [
      "guess the number: 6\n"
     ]
    },
    {
     "name": "stdout",
     "output_type": "stream",
     "text": [
      "too low\n"
     ]
    },
    {
     "name": "stdin",
     "output_type": "stream",
     "text": [
      "guess the number: 8\n"
     ]
    },
    {
     "name": "stdout",
     "output_type": "stream",
     "text": [
      "You guessed it in 4 attempts\n"
     ]
    }
   ],
   "source": [
    "import random\n",
    "secret_number = random.randint(1,10)\n",
    "\n",
    "guess = None\n",
    "attempts = 0\n",
    "\n",
    "while guess != secret_number:\n",
    " guess = int(input(\"guess the number:\"))\n",
    " attempts += 1\n",
    " if guess < secret_number:\n",
    "     print(\"too low\")\n",
    " elif guess > secret_number:\n",
    "    print(\"too high\")\n",
    " else:\n",
    "    print(f\"You guessed it in {attempts} attempts\")"
   ]
  },
  {
   "cell_type": "code",
   "execution_count": 82,
   "id": "a3443222-67ab-4b3c-85ed-3b71454c79fc",
   "metadata": {},
   "outputs": [],
   "source": [
    "#functions - block of code which runs when fun is called\n",
    "\n",
    "#user define\n",
    "def add():\n",
    "    print(2+7)"
   ]
  },
  {
   "cell_type": "code",
   "execution_count": 83,
   "id": "967097cd-f109-4657-8bc4-4e6f79187fd1",
   "metadata": {},
   "outputs": [
    {
     "name": "stdout",
     "output_type": "stream",
     "text": [
      "9\n"
     ]
    }
   ],
   "source": [
    "add()"
   ]
  },
  {
   "cell_type": "code",
   "execution_count": 84,
   "id": "25bf43b8-29ad-4ec9-b02a-abe18f2db93b",
   "metadata": {},
   "outputs": [],
   "source": [
    "def sub():\n",
    "    print(2-7)"
   ]
  },
  {
   "cell_type": "code",
   "execution_count": 85,
   "id": "e9aaaf15-7ad4-45c3-96a5-abc5f3f43bf2",
   "metadata": {},
   "outputs": [
    {
     "name": "stdout",
     "output_type": "stream",
     "text": [
      "-5\n"
     ]
    }
   ],
   "source": [
    "sub()"
   ]
  },
  {
   "cell_type": "code",
   "execution_count": 95,
   "id": "1b3574f9-6243-42a2-af5d-7a4c6ac0b55f",
   "metadata": {},
   "outputs": [],
   "source": [
    "def addition(a,b):\n",
    " print(a+b)\n",
    "def subt(a,b):\n",
    "     print(a-b)"
   ]
  },
  {
   "cell_type": "code",
   "execution_count": 96,
   "id": "faa456a0-8964-4d38-877e-0900dc36dbf7",
   "metadata": {},
   "outputs": [
    {
     "name": "stdout",
     "output_type": "stream",
     "text": [
      "10\n",
      "9\n",
      "-5\n",
      "11\n"
     ]
    }
   ],
   "source": [
    "addition(4,6)\n",
    "add()\n",
    "sub()\n",
    "subt(55,44)"
   ]
  },
  {
   "cell_type": "code",
   "execution_count": 97,
   "id": "9b26813f-0362-4add-ab42-e25d065d4f50",
   "metadata": {},
   "outputs": [],
   "source": [
    "def call_name(name):\n",
    "    print(f\"my name is {name}\")"
   ]
  },
  {
   "cell_type": "code",
   "execution_count": 98,
   "id": "59d832dd-aa67-4481-8cc6-c2d2b903dd09",
   "metadata": {},
   "outputs": [
    {
     "name": "stdout",
     "output_type": "stream",
     "text": [
      "my name is Nehu\n"
     ]
    }
   ],
   "source": [
    "call_name(\"Nehu\")"
   ]
  },
  {
   "cell_type": "code",
   "execution_count": 110,
   "id": "3a1185a0-8b8a-46cf-b4e2-cf0ba0881ccc",
   "metadata": {},
   "outputs": [
    {
     "name": "stdout",
     "output_type": "stream",
     "text": [
      "1\n",
      "2\n",
      "3\n"
     ]
    }
   ],
   "source": [
    "#Fn with arbitary args\n",
    "\n",
    "def numbers(*args):\n",
    "    for i in args:\n",
    "        print(i)\n",
    "\n",
    "numbers(1,2,3)"
   ]
  },
  {
   "cell_type": "code",
   "execution_count": 125,
   "id": "0c83f84a-3c12-45be-824c-513eb033d059",
   "metadata": {},
   "outputs": [
    {
     "data": {
      "text/plain": [
       "([2, 4, 6, 8, 10], [1, 3, 5, 7, 9])"
      ]
     },
     "execution_count": 125,
     "metadata": {},
     "output_type": "execute_result"
    }
   ],
   "source": [
    "def even_odd(*args):\n",
    "    even_list=[]\n",
    "    odd_list=[]\n",
    "    for i in args:\n",
    "        if i % 2 == 0:\n",
    "          even_list.append(i)\n",
    "        else:\n",
    "          odd_list.append(i)\n",
    "    return even_list, odd_list\n",
    "even_odd(1,2,3,4,5,6,7,8,9,10)"
   ]
  },
  {
   "cell_type": "code",
   "execution_count": 124,
   "id": "9d187181-3c99-40eb-a5a9-3560b32a17a8",
   "metadata": {},
   "outputs": [
    {
     "name": "stdout",
     "output_type": "stream",
     "text": [
      "welcome iceem\n"
     ]
    }
   ],
   "source": [
    "#login fn\n",
    "def login(name,password):\n",
    "    if name == \"iceem\" and password == 1234:\n",
    "        print(\"welcome iceem\")\n",
    "    else:\n",
    "        print(\"invalid user\")\n",
    "\n",
    "login(\"iceem\",1234)"
   ]
  },
  {
   "cell_type": "code",
   "execution_count": 126,
   "id": "c3cd6a9e-6ea5-420d-b903-483a28716f57",
   "metadata": {},
   "outputs": [
    {
     "name": "stdout",
     "output_type": "stream",
     "text": [
      "20\n"
     ]
    }
   ],
   "source": [
    "#lambda- small anonymous namess fn\n",
    "x=lambda a:a+10\n",
    "print(x(10))"
   ]
  },
  {
   "cell_type": "code",
   "execution_count": null,
   "id": "26738142-3160-48b4-8faf-5d3d90f539e2",
   "metadata": {},
   "outputs": [],
   "source": []
  }
 ],
 "metadata": {
  "kernelspec": {
   "display_name": "Python 3 (ipykernel)",
   "language": "python",
   "name": "python3"
  },
  "language_info": {
   "codemirror_mode": {
    "name": "ipython",
    "version": 3
   },
   "file_extension": ".py",
   "mimetype": "text/x-python",
   "name": "python",
   "nbconvert_exporter": "python",
   "pygments_lexer": "ipython3",
   "version": "3.12.7"
  }
 },
 "nbformat": 4,
 "nbformat_minor": 5
}
