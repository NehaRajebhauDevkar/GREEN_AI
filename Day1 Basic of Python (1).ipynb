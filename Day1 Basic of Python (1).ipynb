{
 "cells": [
  {
   "cell_type": "code",
   "execution_count": 1,
   "id": "4efc2ddd-6264-43c0-94ff-5565a52efdf0",
   "metadata": {},
   "outputs": [],
   "source": [
    "#comment"
   ]
  },
  {
   "cell_type": "code",
   "execution_count": 5,
   "id": "f24bcf1c-7c04-406a-b2ff-9af37c5e1e78",
   "metadata": {},
   "outputs": [],
   "source": [
    "''' multiline comments '''\n",
    "x=7"
   ]
  },
  {
   "cell_type": "code",
   "execution_count": 6,
   "id": "bf5e83c1-8a11-493d-9db7-43d7c18c5197",
   "metadata": {},
   "outputs": [
    {
     "name": "stdout",
     "output_type": "stream",
     "text": [
      "['False', 'None', 'True', 'and', 'as', 'assert', 'async', 'await', 'break', 'class', 'continue', 'def', 'del', 'elif', 'else', 'except', 'finally', 'for', 'from', 'global', 'if', 'import', 'in', 'is', 'lambda', 'nonlocal', 'not', 'or', 'pass', 'raise', 'return', 'try', 'while', 'with', 'yield']\n"
     ]
    }
   ],
   "source": [
    "import keyword\n",
    "print(keyword.kwlist)"
   ]
  },
  {
   "cell_type": "code",
   "execution_count": 7,
   "id": "f8884be2-7eaa-4528-901b-cf0fdfe0e311",
   "metadata": {},
   "outputs": [
    {
     "data": {
      "text/plain": [
       "35"
      ]
     },
     "execution_count": 7,
     "metadata": {},
     "output_type": "execute_result"
    }
   ],
   "source": [
    "len(keyword.kwlist)"
   ]
  },
  {
   "cell_type": "raw",
   "id": "c8d120fc-b937-4a13-bd85-084d12949297",
   "metadata": {},
   "source": [
    "# VAriable name should not start with numbers\n",
    "1var = 10 # wrong\n",
    "var1 = 10 # right\n",
    "\n",
    "# Variable name should not contain any special char except _\n",
    "var@1 = # wrong \n",
    "var_1 = 10 # right\n",
    "\n",
    "# Variable name should not start with caps letter.\n",
    "var = 10 # wrong \n",
    "var = 10 # right"
   ]
  },
  {
   "cell_type": "code",
   "execution_count": 15,
   "id": "9b78c994-4cbf-4471-b6f6-a06f75095c5f",
   "metadata": {},
   "outputs": [
    {
     "name": "stdout",
     "output_type": "stream",
     "text": [
      "ICEEM\n"
     ]
    }
   ],
   "source": [
    "# Variables -- a container to hold value at computer's memory.\n",
    "\n",
    "name = \"ICEEM\"\n",
    "print(name)"
   ]
  },
  {
   "cell_type": "code",
   "execution_count": 16,
   "id": "408c9f4e-4009-4a41-83c2-5a5376a00693",
   "metadata": {},
   "outputs": [
    {
     "name": "stdout",
     "output_type": "stream",
     "text": [
      "2073397207296\n"
     ]
    }
   ],
   "source": [
    "print(id(name))"
   ]
  },
  {
   "cell_type": "code",
   "execution_count": 17,
   "id": "26c62b66-fda0-4a8c-8b66-b6896a5fea0d",
   "metadata": {},
   "outputs": [
    {
     "name": "stdout",
     "output_type": "stream",
     "text": [
      "0x1e2c01aa100\n"
     ]
    }
   ],
   "source": [
    "print(hex(id(name)))"
   ]
  },
  {
   "cell_type": "code",
   "execution_count": 18,
   "id": "f95d5045-5b50-4689-ba13-e06cd9d11bac",
   "metadata": {},
   "outputs": [
    {
     "name": "stdout",
     "output_type": "stream",
     "text": [
      "30\n"
     ]
    }
   ],
   "source": [
    "sum = 10 + 20\n",
    "print(sum)"
   ]
  },
  {
   "cell_type": "code",
   "execution_count": 19,
   "id": "2a809d3f-8532-4acc-b5c7-ab4402b2a771",
   "metadata": {},
   "outputs": [
    {
     "name": "stdout",
     "output_type": "stream",
     "text": [
      "30\n"
     ]
    }
   ],
   "source": [
    "a=10\n",
    "b=20\n",
    "c=a+b\n",
    "print(c)"
   ]
  },
  {
   "cell_type": "code",
   "execution_count": 20,
   "id": "dc625a34-089e-4c63-9843-73fc729cc66e",
   "metadata": {},
   "outputs": [
    {
     "name": "stdin",
     "output_type": "stream",
     "text": [
      "Enter any number  20\n",
      "Enter any number  30\n"
     ]
    },
    {
     "name": "stdout",
     "output_type": "stream",
     "text": [
      "2030\n"
     ]
    }
   ],
   "source": [
    "# Input Fn\n",
    "a= input(\"Enter any number \")\n",
    "b= input(\"Enter any number \")\n",
    "c=a+b\n",
    "print(c)\n"
   ]
  },
  {
   "cell_type": "code",
   "execution_count": 21,
   "id": "24c43640-4a30-4595-9fea-dec341343d43",
   "metadata": {},
   "outputs": [
    {
     "name": "stdin",
     "output_type": "stream",
     "text": [
      "Enter any number  30\n",
      "Enter any number  20\n"
     ]
    },
    {
     "name": "stdout",
     "output_type": "stream",
     "text": [
      "50\n"
     ]
    }
   ],
   "source": [
    "# Input Fn\n",
    "a= int(input(\"Enter any number \"))\n",
    "b= int(input(\"Enter any number \"))\n",
    "c=a+b\n",
    "print(c)\n"
   ]
  },
  {
   "cell_type": "code",
   "execution_count": 23,
   "id": "529cbd8d-b120-4697-93f9-85a16ecbc76f",
   "metadata": {},
   "outputs": [
    {
     "name": "stdin",
     "output_type": "stream",
     "text": [
      "Enter your FNAME  Neha\n",
      "Enter your LNAME  Devkar\n"
     ]
    },
    {
     "name": "stdout",
     "output_type": "stream",
     "text": [
      "Neha Devkar\n"
     ]
    }
   ],
   "source": [
    "fname = input(\"Enter your FNAME \")\n",
    "lname = input(\"Enter your LNAME \")\n",
    "print(fname, lname)"
   ]
  },
  {
   "cell_type": "code",
   "execution_count": 26,
   "id": "5e5affdf-4127-4b1a-95cf-359df426e862",
   "metadata": {},
   "outputs": [
    {
     "name": "stdout",
     "output_type": "stream",
     "text": [
      "Neha || Devkar\n",
      "Neha||Devkar\n"
     ]
    }
   ],
   "source": [
    "# Neha||Devkar\n",
    "print(fname,\"||\",lname)\n",
    "print(fname+\"||\"+lname)"
   ]
  },
  {
   "cell_type": "code",
   "execution_count": 27,
   "id": "93d18c83-3a20-4d70-9992-e0b445581273",
   "metadata": {},
   "outputs": [
    {
     "name": "stdout",
     "output_type": "stream",
     "text": [
      "Neha||Devkar\n"
     ]
    }
   ],
   "source": [
    "print(fname, lname, sep =\"||\")"
   ]
  },
  {
   "cell_type": "code",
   "execution_count": 28,
   "id": "2638c870-5d38-4ef5-b288-8219627c5b56",
   "metadata": {},
   "outputs": [
    {
     "name": "stdout",
     "output_type": "stream",
     "text": [
      "Neha\n",
      "Devkar\n"
     ]
    }
   ],
   "source": [
    "print(fname)\n",
    "print(lname)"
   ]
  },
  {
   "cell_type": "code",
   "execution_count": 29,
   "id": "ecc367bc-30eb-4cb5-9a9f-4953ccb6727d",
   "metadata": {},
   "outputs": [
    {
     "name": "stdout",
     "output_type": "stream",
     "text": [
      "Neha Devkar\n"
     ]
    }
   ],
   "source": [
    "print(fname, end=\" \")\n",
    "print(lname)"
   ]
  },
  {
   "cell_type": "code",
   "execution_count": 31,
   "id": "609bf172-2126-4697-9b9d-a81aee4dd057",
   "metadata": {},
   "outputs": [
    {
     "name": "stdout",
     "output_type": "stream",
     "text": [
      "10||20||5.6\n"
     ]
    }
   ],
   "source": [
    "a, b, c = \"10\", 20, 5.6 \n",
    "print(a,b,c, sep =\"||\")"
   ]
  },
  {
   "cell_type": "code",
   "execution_count": 34,
   "id": "194df681-3bba-494e-a412-23f4cc24fd0d",
   "metadata": {},
   "outputs": [
    {
     "name": "stdout",
     "output_type": "stream",
     "text": [
      "10|20|5.6|"
     ]
    }
   ],
   "source": [
    "a, b, c = \"10\", 20, 5.6 \n",
    "print(a,b,c, sep =\"|\", end=\"|\")"
   ]
  },
  {
   "cell_type": "code",
   "execution_count": 35,
   "id": "4dc6b55e-d746-4b3a-b8cb-d2ff24c7e9ac",
   "metadata": {},
   "outputs": [
    {
     "name": "stdout",
     "output_type": "stream",
     "text": [
      "55 55 55 55\n"
     ]
    }
   ],
   "source": [
    "p1=p2=p3=p4=55\n",
    "print(p1,p2,p3,p4)"
   ]
  },
  {
   "cell_type": "code",
   "execution_count": 36,
   "id": "9eb84a6b-6261-4c3c-9a68-cc8ef94ce62a",
   "metadata": {},
   "outputs": [
    {
     "name": "stdout",
     "output_type": "stream",
     "text": [
      "140709188022392\n",
      "140709188022392\n",
      "140709188022392\n"
     ]
    }
   ],
   "source": [
    "print(id(p1))\n",
    "print(id(p2))\n",
    "print(id(p3))\n"
   ]
  },
  {
   "cell_type": "code",
   "execution_count": 37,
   "id": "cef0528f-0f93-4d7f-9b5f-328310c97cd0",
   "metadata": {},
   "outputs": [
    {
     "name": "stdout",
     "output_type": "stream",
     "text": [
      "Neha Devkar\n",
      "My first name is Neha My last name is Devkar\n"
     ]
    }
   ],
   "source": [
    "print(fname, lname)\n",
    "print(\"My first name is\", fname, \"My last name is\",lname)"
   ]
  },
  {
   "cell_type": "code",
   "execution_count": 41,
   "id": "37e5c83e-62fd-474f-8830-6870c01b1080",
   "metadata": {},
   "outputs": [
    {
     "name": "stdout",
     "output_type": "stream",
     "text": [
      "My first name is Neha My last name is Devkar\n",
      "My first name is Devkar My last name is Neha\n",
      "My first name is Devkar My last name is Neha\n"
     ]
    }
   ],
   "source": [
    "# format method \n",
    "\n",
    "print(\"My first name is {} My last name is {}\".format(fname,lname))\n",
    "print(\"My first name is {1} My last name is {0}\".format(fname,lname))\n",
    "print(\"My first name is {} My last name is {}\".format(lname,fname))"
   ]
  },
  {
   "cell_type": "code",
   "execution_count": 42,
   "id": "5bb62780-ca63-4fb2-aed6-87994dd64d37",
   "metadata": {},
   "outputs": [
    {
     "name": "stdout",
     "output_type": "stream",
     "text": [
      "My first name is Neha My last name is Devkar\n"
     ]
    }
   ],
   "source": [
    "# f-string\n",
    "\n",
    "print(f\"My first name is {fname} My last name is {lname}\")\n"
   ]
  },
  {
   "cell_type": "code",
   "execution_count": 57,
   "id": "7985d5d0-50da-4fef-a165-583f04591b99",
   "metadata": {},
   "outputs": [
    {
     "name": "stdout",
     "output_type": "stream",
     "text": [
      "<class 'int'>\n",
      "<class 'float'>\n",
      "<class 'bool'>\n",
      "<class 'complex'>\n",
      "<class 'str'>\n",
      "<class 'list'>\n",
      "<class 'list'>\n",
      "[1, 3, 50, 5]\n",
      "<class 'tuple'>\n"
     ]
    }
   ],
   "source": [
    "# Data types\n",
    "x = 10\n",
    "print(type(x))\n",
    "y=2.5\n",
    "print(type(y))\n",
    "z=True\n",
    "print(type(z))\n",
    "a=5j\n",
    "print(type(a))\n",
    "c=\"neha\"\n",
    "print(type(c))\n",
    "\n",
    "# Sequence Type\n",
    "#list are mutable = can be modified\n",
    "\n",
    "mylist=[1,3,2,5]\n",
    "print(type(mylist))\n",
    "mylist1=[1,\"iceem\",3,5,True]\n",
    "print(type(mylist1))\n",
    "mylist[2]=50\n",
    "print(mylist)\n",
    "\n",
    "# tuple= immutable - cannot be modified\n",
    "mytuple=(1,2,3,4)\n",
    "print(type(mytuple))"
   ]
  },
  {
   "cell_type": "code",
   "execution_count": null,
   "id": "6bf9a0fe-9f00-4ab3-9936-551d4e45c927",
   "metadata": {},
   "outputs": [],
   "source": []
  },
  {
   "cell_type": "code",
   "execution_count": null,
   "id": "450f37e6-5c86-466e-b96d-423718064760",
   "metadata": {},
   "outputs": [],
   "source": []
  }
 ],
 "metadata": {
  "kernelspec": {
   "display_name": "Python 3 (ipykernel)",
   "language": "python",
   "name": "python3"
  },
  "language_info": {
   "codemirror_mode": {
    "name": "ipython",
    "version": 3
   },
   "file_extension": ".py",
   "mimetype": "text/x-python",
   "name": "python",
   "nbconvert_exporter": "python",
   "pygments_lexer": "ipython3",
   "version": "3.12.7"
  }
 },
 "nbformat": 4,
 "nbformat_minor": 5
}
