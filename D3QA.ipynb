{
 "cells": [
  {
   "cell_type": "code",
   "execution_count": 1,
   "id": "3d0dc6e0-185b-498f-b0e9-118d09bef331",
   "metadata": {},
   "outputs": [
    {
     "name": "stdin",
     "output_type": "stream",
     "text": [
      "Enter the first number:  90\n",
      "Enter the second number:  44\n"
     ]
    },
    {
     "name": "stdout",
     "output_type": "stream",
     "text": [
      "Sum: 134.0\n",
      "Difference: 46.0\n",
      "Product: 3960.0\n",
      "Quotient: 2.0454545454545454\n"
     ]
    }
   ],
   "source": [
    "# Input: Taking two numbers as input from the user\n",
    "num1 = float(input(\"Enter the first number: \"))\n",
    "num2 = float(input(\"Enter the second number: \"))\n",
    "\n",
    "# Calculating sum, difference, product, and quotient\n",
    "sum_result = num1 + num2\n",
    "difference_result = num1 - num2\n",
    "product_result = num1 * num2\n",
    "\n",
    "# Handling division by zero\n",
    "if num2 != 0:\n",
    "    quotient_result = num1 / num2\n",
    "else:\n",
    "    quotient_result = \"undefined (cannot divide by zero)\"\n",
    "\n",
    "# Displaying the results\n",
    "print(f\"Sum: {sum_result}\")\n",
    "print(f\"Difference: {difference_result}\")\n",
    "print(f\"Product: {product_result}\")\n",
    "print(f\"Quotient: {quotient_result}\")\n"
   ]
  },
  {
   "cell_type": "code",
   "execution_count": 2,
   "id": "eabdbbdf-b0d4-4e14-9f4f-f78b1b41f36e",
   "metadata": {},
   "outputs": [
    {
     "name": "stdin",
     "output_type": "stream",
     "text": [
      "Enter a number:  4\n"
     ]
    },
    {
     "name": "stdout",
     "output_type": "stream",
     "text": [
      "4 is even.\n"
     ]
    }
   ],
   "source": [
    "# Input: Taking a number as input from the user\n",
    "num = int(input(\"Enter a number: \"))\n",
    "\n",
    "# Checking if the number is even or odd\n",
    "if num % 2 == 0:\n",
    "    print(f\"{num} is even.\")\n",
    "else:\n",
    "    print(f\"{num} is odd.\")\n"
   ]
  },
  {
   "cell_type": "code",
   "execution_count": 3,
   "id": "bb4a12a0-c364-4e4f-a5ba-8eb8469f4db9",
   "metadata": {},
   "outputs": [
    {
     "name": "stdin",
     "output_type": "stream",
     "text": [
      "Enter the first number:  7\n",
      "Enter the second number:  3\n"
     ]
    },
    {
     "name": "stdout",
     "output_type": "stream",
     "text": [
      "After swapping: a = 3, b = 7\n"
     ]
    }
   ],
   "source": [
    "# Input: Taking two numbers as input from the user\n",
    "a = int(input(\"Enter the first number: \"))\n",
    "b = int(input(\"Enter the second number: \"))\n",
    "\n",
    "# Swapping without using a third variable\n",
    "a = a + b  # Step 1: Add both numbers and store the result in a\n",
    "b = a - b  # Step 2: Subtract b from the new value of a to get the original value of a\n",
    "a = a - b  # Step 3: Subtract the new value of b from a to get the original value of b\n",
    "\n",
    "# Output: Displaying the swapped values\n",
    "print(f\"After swapping: a = {a}, b = {b}\")\n"
   ]
  },
  {
   "cell_type": "code",
   "execution_count": 4,
   "id": "af478639-c938-407d-bd77-1fa733cddc1f",
   "metadata": {},
   "outputs": [
    {
     "name": "stdin",
     "output_type": "stream",
     "text": [
      "Enter a number to calculate its factorial:  55\n"
     ]
    },
    {
     "name": "stdout",
     "output_type": "stream",
     "text": [
      "The factorial of 55 is 12696403353658275925965100847566516959580321051449436762275840000000000000\n"
     ]
    }
   ],
   "source": [
    "# Input: Taking a number as input from the user\n",
    "num = int(input(\"Enter a number to calculate its factorial: \"))\n",
    "\n",
    "# Initialize factorial as 1 (since the factorial of 0 or 1 is 1)\n",
    "factorial = 1\n",
    "\n",
    "# Loop to calculate the factorial\n",
    "for i in range(1, num + 1):\n",
    "    factorial *= i  # Multiply the current factorial by i\n",
    "\n",
    "# Output: Displaying the factorial\n",
    "print(f\"The factorial of {num} is {factorial}\")\n"
   ]
  },
  {
   "cell_type": "code",
   "execution_count": 5,
   "id": "6758eb67-b805-4669-ac00-beb78c7ee24b",
   "metadata": {},
   "outputs": [
    {
     "name": "stdin",
     "output_type": "stream",
     "text": [
      "Enter the first number:  77\n",
      "Enter the second number:  99\n",
      "Enter the third number:  44\n"
     ]
    },
    {
     "name": "stdout",
     "output_type": "stream",
     "text": [
      "The largest number is 99.0\n"
     ]
    }
   ],
   "source": [
    "# Input: Taking three numbers as input from the user\n",
    "num1 = float(input(\"Enter the first number: \"))\n",
    "num2 = float(input(\"Enter the second number: \"))\n",
    "num3 = float(input(\"Enter the third number: \"))\n",
    "\n",
    "# Finding the largest number using if-else\n",
    "if num1 >= num2 and num1 >= num3:\n",
    "    largest = num1\n",
    "elif num2 >= num1 and num2 >= num3:\n",
    "    largest = num2\n",
    "else:\n",
    "    largest = num3\n",
    "\n",
    "# Output: Displaying the largest number\n",
    "print(f\"The largest number is {largest}\")\n"
   ]
  },
  {
   "cell_type": "code",
   "execution_count": 1,
   "id": "5db6cfdc-c960-44e8-98d0-a358171a606e",
   "metadata": {},
   "outputs": [
    {
     "name": "stdout",
     "output_type": "stream",
     "text": [
      "The sum of the elements in the list is: 150\n"
     ]
    }
   ],
   "source": [
    "# Create a list of 5 numbers\n",
    "numbers = [10, 20, 30, 40, 50]\n",
    "\n",
    "# Calculate the sum of elements in the list\n",
    "sum_of_numbers = sum(numbers)\n",
    "\n",
    "# Print the sum\n",
    "print(\"The sum of the elements in the list is:\", sum_of_numbers)\n"
   ]
  },
  {
   "cell_type": "code",
   "execution_count": 2,
   "id": "1ce37ad7-6938-44a7-b6ba-cc149ccab021",
   "metadata": {},
   "outputs": [
    {
     "name": "stdout",
     "output_type": "stream",
     "text": [
      "List without duplicates: [40, 10, 50, 20, 30]\n"
     ]
    }
   ],
   "source": [
    "# Create a list with duplicates\n",
    "numbers = [10, 20, 20, 30, 40, 40, 50]\n",
    "\n",
    "# Remove duplicates by converting the list to a set\n",
    "unique_numbers = list(set(numbers))\n",
    "\n",
    "# Print the list without duplicates\n",
    "print(\"List without duplicates:\", unique_numbers)\n"
   ]
  },
  {
   "cell_type": "code",
   "execution_count": 4,
   "id": "075bc126-0648-4089-82af-91a061bd5602",
   "metadata": {},
   "outputs": [
    {
     "name": "stdout",
     "output_type": "stream",
     "text": [
      "Students who scored more than 75:\n",
      "neha\n",
      "samu\n",
      "mayur\n"
     ]
    }
   ],
   "source": [
    "# Create a dictionary with student names and marks\n",
    "students = {\n",
    "    \"neha\": 85,\n",
    "    \"sona\": 72,\n",
    "    \"samu\": 90,\n",
    "    \"jayu\": 60,\n",
    "    \"mayur\": 78\n",
    "}\n",
    "\n",
    "# Loop through the dictionary and print names of students who scored more than 75\n",
    "print(\"Students who scored more than 75:\")\n",
    "for name, marks in students.items():\n",
    "    if marks > 75:\n",
    "        print(name)\n"
   ]
  },
  {
   "cell_type": "code",
   "execution_count": 5,
   "id": "7a97e014-297b-45f5-9ac3-73e98e34b56a",
   "metadata": {},
   "outputs": [
    {
     "name": "stdout",
     "output_type": "stream",
     "text": [
      "Reversed tuple: (5, 4, 3, 2, 1)\n"
     ]
    }
   ],
   "source": [
    "# Create a tuple with 5 elements\n",
    "my_tuple = (1, 2, 3, 4, 5)\n",
    "\n",
    "# Reverse the tuple using slicing\n",
    "reversed_tuple = my_tuple[::-1]\n",
    "\n",
    "# Print the reversed tuple\n",
    "print(\"Reversed tuple:\", reversed_tuple)\n"
   ]
  },
  {
   "cell_type": "code",
   "execution_count": null,
   "id": "39845a6d-4a1e-4825-985c-87ad8ba1351f",
   "metadata": {},
   "outputs": [],
   "source": []
  }
 ],
 "metadata": {
  "kernelspec": {
   "display_name": "Python 3 (ipykernel)",
   "language": "python",
   "name": "python3"
  },
  "language_info": {
   "codemirror_mode": {
    "name": "ipython",
    "version": 3
   },
   "file_extension": ".py",
   "mimetype": "text/x-python",
   "name": "python",
   "nbconvert_exporter": "python",
   "pygments_lexer": "ipython3",
   "version": "3.12.7"
  }
 },
 "nbformat": 4,
 "nbformat_minor": 5
}
